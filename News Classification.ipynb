{
 "cells": [
  {
   "cell_type": "code",
   "execution_count": 18,
   "metadata": {},
   "outputs": [],
   "source": [
    "import pandas as pd\n",
    "import numpy as np\n",
    "import re\n",
    "from sklearn.feature_extraction.text import HashingVectorizer, TfidfVectorizer\n",
    "from sklearn.pipeline import Pipeline\n",
    "from sklearn.linear_model import LogisticRegression\n",
    "from sklearn.multiclass import OneVsRestClassifier\n",
    "from sklearn.preprocessing import OneHotEncoder\n",
    "from nltk.corpus import stopwords\n",
    "from nltk.tokenize import WhitespaceTokenizer\n",
    "from sklearn.model_selection import train_test_split\n",
    "from sklearn.utils.multiclass import unique_labels\n",
    "from sklearn.metrics import accuracy_score, confusion_matrix\n",
    "from matplotlib import pyplot as plt"
   ]
  },
  {
   "cell_type": "code",
   "execution_count": 2,
   "metadata": {},
   "outputs": [
    {
     "name": "stderr",
     "output_type": "stream",
     "text": [
      "[nltk_data] Downloading package stopwords to\n",
      "[nltk_data]     C:\\Users\\ritik.j\\AppData\\Roaming\\nltk_data...\n",
      "[nltk_data]   Package stopwords is already up-to-date!\n"
     ]
    },
    {
     "data": {
      "text/plain": [
       "True"
      ]
     },
     "execution_count": 2,
     "metadata": {},
     "output_type": "execute_result"
    }
   ],
   "source": [
    "import nltk\n",
    "nltk.download('stopwords')"
   ]
  },
  {
   "cell_type": "code",
   "execution_count": 3,
   "metadata": {},
   "outputs": [],
   "source": [
    "categories = pd.read_csv('./categories.csv')\n",
    "categories_map = pd.read_excel('./category_mapping.xlsx', 'Sheet1')\n",
    "new_article = pd.read_excel('./news_details.xlsx', 'Sheet1')"
   ]
  },
  {
   "cell_type": "code",
   "execution_count": 4,
   "metadata": {},
   "outputs": [],
   "source": [
    "new_article['content'] = new_article['title'].str.cat(new_article['snippet'], na_rep = '', sep = \"\\n\").str.cat(new_article['news_description'], na_rep = '', sep = '\\n')"
   ]
  },
  {
   "cell_type": "code",
   "execution_count": 5,
   "metadata": {},
   "outputs": [
    {
     "data": {
      "text/html": [
       "<div>\n",
       "<style scoped>\n",
       "    .dataframe tbody tr th:only-of-type {\n",
       "        vertical-align: middle;\n",
       "    }\n",
       "\n",
       "    .dataframe tbody tr th {\n",
       "        vertical-align: top;\n",
       "    }\n",
       "\n",
       "    .dataframe thead th {\n",
       "        text-align: right;\n",
       "    }\n",
       "</style>\n",
       "<table border=\"1\" class=\"dataframe\">\n",
       "  <thead>\n",
       "    <tr style=\"text-align: right;\">\n",
       "      <th></th>\n",
       "      <th>news_id</th>\n",
       "      <th>category_id</th>\n",
       "    </tr>\n",
       "  </thead>\n",
       "  <tbody>\n",
       "    <tr>\n",
       "      <th>0</th>\n",
       "      <td>5cb377684f646938b14a96f1_google</td>\n",
       "      <td>4</td>\n",
       "    </tr>\n",
       "    <tr>\n",
       "      <th>1</th>\n",
       "      <td>5cb426d44f646938b10bf6b6_google</td>\n",
       "      <td>4</td>\n",
       "    </tr>\n",
       "    <tr>\n",
       "      <th>2</th>\n",
       "      <td>5cb429984f646938b110f937_google</td>\n",
       "      <td>2</td>\n",
       "    </tr>\n",
       "    <tr>\n",
       "      <th>3</th>\n",
       "      <td>5cb426b34f646938b10bbeca_google</td>\n",
       "      <td>5</td>\n",
       "    </tr>\n",
       "    <tr>\n",
       "      <th>4</th>\n",
       "      <td>5cb426f74f646938b10c3857_google</td>\n",
       "      <td>7</td>\n",
       "    </tr>\n",
       "  </tbody>\n",
       "</table>\n",
       "</div>"
      ],
      "text/plain": [
       "                           news_id  category_id\n",
       "0  5cb377684f646938b14a96f1_google            4\n",
       "1  5cb426d44f646938b10bf6b6_google            4\n",
       "2  5cb429984f646938b110f937_google            2\n",
       "3  5cb426b34f646938b10bbeca_google            5\n",
       "4  5cb426f74f646938b10c3857_google            7"
      ]
     },
     "execution_count": 5,
     "metadata": {},
     "output_type": "execute_result"
    }
   ],
   "source": [
    "categories_map.head()"
   ]
  },
  {
   "cell_type": "code",
   "execution_count": 6,
   "metadata": {
    "scrolled": true
   },
   "outputs": [
    {
     "data": {
      "text/html": [
       "<div>\n",
       "<style scoped>\n",
       "    .dataframe tbody tr th:only-of-type {\n",
       "        vertical-align: middle;\n",
       "    }\n",
       "\n",
       "    .dataframe tbody tr th {\n",
       "        vertical-align: top;\n",
       "    }\n",
       "\n",
       "    .dataframe thead th {\n",
       "        text-align: right;\n",
       "    }\n",
       "</style>\n",
       "<table border=\"1\" class=\"dataframe\">\n",
       "  <thead>\n",
       "    <tr style=\"text-align: right;\">\n",
       "      <th></th>\n",
       "      <th>id</th>\n",
       "      <th>category</th>\n",
       "    </tr>\n",
       "  </thead>\n",
       "  <tbody>\n",
       "    <tr>\n",
       "      <th>0</th>\n",
       "      <td>1</td>\n",
       "      <td>Layoff</td>\n",
       "    </tr>\n",
       "    <tr>\n",
       "      <th>1</th>\n",
       "      <td>2</td>\n",
       "      <td>Mergers and Acquisitions</td>\n",
       "    </tr>\n",
       "    <tr>\n",
       "      <th>2</th>\n",
       "      <td>3</td>\n",
       "      <td>Mass Hiring</td>\n",
       "    </tr>\n",
       "    <tr>\n",
       "      <th>3</th>\n",
       "      <td>4</td>\n",
       "      <td>Executive Movement</td>\n",
       "    </tr>\n",
       "    <tr>\n",
       "      <th>4</th>\n",
       "      <td>5</td>\n",
       "      <td>Centre Setup and Expansion</td>\n",
       "    </tr>\n",
       "  </tbody>\n",
       "</table>\n",
       "</div>"
      ],
      "text/plain": [
       "   id                    category\n",
       "0   1                      Layoff\n",
       "1   2    Mergers and Acquisitions\n",
       "2   3                 Mass Hiring\n",
       "3   4          Executive Movement\n",
       "4   5  Centre Setup and Expansion"
      ]
     },
     "execution_count": 6,
     "metadata": {},
     "output_type": "execute_result"
    }
   ],
   "source": [
    "categories.head()"
   ]
  },
  {
   "cell_type": "code",
   "execution_count": 7,
   "metadata": {},
   "outputs": [],
   "source": [
    "new_article = new_article.merge(categories_map, on = \"news_id\")"
   ]
  },
  {
   "cell_type": "code",
   "execution_count": 8,
   "metadata": {
    "scrolled": true
   },
   "outputs": [
    {
     "data": {
      "text/html": [
       "<div>\n",
       "<style scoped>\n",
       "    .dataframe tbody tr th:only-of-type {\n",
       "        vertical-align: middle;\n",
       "    }\n",
       "\n",
       "    .dataframe tbody tr th {\n",
       "        vertical-align: top;\n",
       "    }\n",
       "\n",
       "    .dataframe thead th {\n",
       "        text-align: right;\n",
       "    }\n",
       "</style>\n",
       "<table border=\"1\" class=\"dataframe\">\n",
       "  <thead>\n",
       "    <tr style=\"text-align: right;\">\n",
       "      <th></th>\n",
       "      <th>news_id</th>\n",
       "      <th>snippet</th>\n",
       "      <th>title</th>\n",
       "      <th>news_description</th>\n",
       "      <th>content</th>\n",
       "      <th>category_id</th>\n",
       "    </tr>\n",
       "  </thead>\n",
       "  <tbody>\n",
       "    <tr>\n",
       "      <th>0</th>\n",
       "      <td>5cb377684f646938b14a96f1_google</td>\n",
       "      <td>New Delhi: Bank of Baroda, which has become th...</td>\n",
       "      <td>Bank of Baroda to hire consultancy firm to eva...</td>\n",
       "      <td>NaN</td>\n",
       "      <td>Bank of Baroda to hire consultancy firm to eva...</td>\n",
       "      <td>4</td>\n",
       "    </tr>\n",
       "    <tr>\n",
       "      <th>1</th>\n",
       "      <td>5cb426d44f646938b10bf6b6_google</td>\n",
       "      <td>He said his plans would be discussed with the ...</td>\n",
       "      <td>Foxconn chairman Gou says he aims to step down...</td>\n",
       "      <td>TAIPEI (Reuters) - The chairman of Taiwan's Fo...</td>\n",
       "      <td>Foxconn chairman Gou says he aims to step down...</td>\n",
       "      <td>4</td>\n",
       "    </tr>\n",
       "    <tr>\n",
       "      <th>2</th>\n",
       "      <td>5cb429984f646938b110f937_google</td>\n",
       "      <td>ZF Friedrichshafen AG has announced that it ha...</td>\n",
       "      <td>ZF Finalizes USD 7 Billion Deal to Acquire WABCO</td>\n",
       "      <td>Share 0 Share 0\\n\\nZF Friedrichshafen AG has a...</td>\n",
       "      <td>ZF Finalizes USD 7 Billion Deal to Acquire WAB...</td>\n",
       "      <td>2</td>\n",
       "    </tr>\n",
       "    <tr>\n",
       "      <th>3</th>\n",
       "      <td>5cb426b34f646938b10bbeca_google</td>\n",
       "      <td>Zhejiang Geely Holding (ZGH) has begun constru...</td>\n",
       "      <td>Geely Begins Work On New Lotus Plant In China</td>\n",
       "      <td>Zhejiang Geely Holding (ZGH) has begun constru...</td>\n",
       "      <td>Geely Begins Work On New Lotus Plant In China\\...</td>\n",
       "      <td>5</td>\n",
       "    </tr>\n",
       "    <tr>\n",
       "      <th>4</th>\n",
       "      <td>5cb426f74f646938b10c3857_google</td>\n",
       "      <td>KFH has partnered with IDEMIA to launch Kuwait...</td>\n",
       "      <td>KFH partners with IDEMIA's to launch metal pay...</td>\n",
       "      <td>NaN</td>\n",
       "      <td>KFH partners with IDEMIA's to launch metal pay...</td>\n",
       "      <td>7</td>\n",
       "    </tr>\n",
       "  </tbody>\n",
       "</table>\n",
       "</div>"
      ],
      "text/plain": [
       "                           news_id  \\\n",
       "0  5cb377684f646938b14a96f1_google   \n",
       "1  5cb426d44f646938b10bf6b6_google   \n",
       "2  5cb429984f646938b110f937_google   \n",
       "3  5cb426b34f646938b10bbeca_google   \n",
       "4  5cb426f74f646938b10c3857_google   \n",
       "\n",
       "                                             snippet  \\\n",
       "0  New Delhi: Bank of Baroda, which has become th...   \n",
       "1  He said his plans would be discussed with the ...   \n",
       "2  ZF Friedrichshafen AG has announced that it ha...   \n",
       "3  Zhejiang Geely Holding (ZGH) has begun constru...   \n",
       "4  KFH has partnered with IDEMIA to launch Kuwait...   \n",
       "\n",
       "                                               title  \\\n",
       "0  Bank of Baroda to hire consultancy firm to eva...   \n",
       "1  Foxconn chairman Gou says he aims to step down...   \n",
       "2   ZF Finalizes USD 7 Billion Deal to Acquire WABCO   \n",
       "3      Geely Begins Work On New Lotus Plant In China   \n",
       "4  KFH partners with IDEMIA's to launch metal pay...   \n",
       "\n",
       "                                    news_description  \\\n",
       "0                                                NaN   \n",
       "1  TAIPEI (Reuters) - The chairman of Taiwan's Fo...   \n",
       "2  Share 0 Share 0\\n\\nZF Friedrichshafen AG has a...   \n",
       "3  Zhejiang Geely Holding (ZGH) has begun constru...   \n",
       "4                                                NaN   \n",
       "\n",
       "                                             content  category_id  \n",
       "0  Bank of Baroda to hire consultancy firm to eva...            4  \n",
       "1  Foxconn chairman Gou says he aims to step down...            4  \n",
       "2  ZF Finalizes USD 7 Billion Deal to Acquire WAB...            2  \n",
       "3  Geely Begins Work On New Lotus Plant In China\\...            5  \n",
       "4  KFH partners with IDEMIA's to launch metal pay...            7  "
      ]
     },
     "execution_count": 8,
     "metadata": {},
     "output_type": "execute_result"
    }
   ],
   "source": [
    "new_article.head()"
   ]
  },
  {
   "cell_type": "code",
   "execution_count": 9,
   "metadata": {},
   "outputs": [
    {
     "data": {
      "text/plain": [
       "news_id               0\n",
       "snippet              11\n",
       "title                 0\n",
       "news_description    284\n",
       "content               0\n",
       "category_id           0\n",
       "dtype: int64"
      ]
     },
     "execution_count": 9,
     "metadata": {},
     "output_type": "execute_result"
    }
   ],
   "source": [
    "new_article.isnull().sum()"
   ]
  },
  {
   "cell_type": "code",
   "execution_count": 10,
   "metadata": {},
   "outputs": [],
   "source": [
    "data = new_article[['content', 'category_id']]"
   ]
  },
  {
   "cell_type": "code",
   "execution_count": 11,
   "metadata": {},
   "outputs": [],
   "source": [
    "x_train, x_test, y_train, y_test = train_test_split(data['content'], data['category_id'], test_size = 0.2)"
   ]
  },
  {
   "cell_type": "code",
   "execution_count": 12,
   "metadata": {},
   "outputs": [],
   "source": [
    "def clean_text(text):\n",
    "    text = text.replace('\\\\n', '')\n",
    "    text = re.sub('[^A-Za-z-]', ' ', text)\n",
    "    text = [word for word in text.split() if len(word) > 2]\n",
    "    return ' '.join(text)"
   ]
  },
  {
   "cell_type": "markdown",
   "metadata": {},
   "source": [
    "## Model 1\n",
    "\n",
    "Model consists of \n",
    "- Hashing Vectorization\n",
    "- Logistic Regression for binomial classification"
   ]
  },
  {
   "cell_type": "code",
   "execution_count": 16,
   "metadata": {
    "scrolled": true
   },
   "outputs": [
    {
     "name": "stdout",
     "output_type": "stream",
     "text": [
      "[Pipeline] .......... (step 1 of 2) Processing hash_vec, total=   6.8s\n",
      "[Pipeline] ............... (step 2 of 2) Processing clf, total= 1.1min\n",
      "Accuracy of the model: 0.903\n"
     ]
    }
   ],
   "source": [
    "tokenizer = WhitespaceTokenizer()\n",
    "\n",
    "hash_vec = HashingVectorizer(preprocessor = clean_text, \n",
    "                             stop_words=stopwords.words('english'), \n",
    "                             ngram_range= (1, 2),\n",
    "                             tokenizer= lambda x: tokenizer.tokenize(x)\n",
    "                            )\n",
    "\n",
    "clf = OneVsRestClassifier(LogisticRegression( solver = 'lbfgs'))\n",
    "\n",
    "pipeline1 = Pipeline(steps = [('hash_vec', hash_vec),\n",
    "                 ('clf', clf)], verbose= True)\n",
    "\n",
    "pipeline1.fit(x_train, y_train)\n",
    "\n",
    "pred = pipeline1.predict(x_test)\n",
    "\n",
    "print (\"Accuracy of the model: %.3f\"%(accuracy_score(y_test, pred)))"
   ]
  },
  {
   "cell_type": "markdown",
   "metadata": {},
   "source": [
    "## Model 2\n",
    "\n",
    "- TFIDF Vectorization\n",
    "- Logistic Regression with multinomial"
   ]
  },
  {
   "cell_type": "code",
   "execution_count": 23,
   "metadata": {},
   "outputs": [
    {
     "name": "stdout",
     "output_type": "stream",
     "text": [
      "[Pipeline] .......... (step 1 of 2) Processing hash_vec, total=  11.2s\n",
      "[Pipeline] ............... (step 2 of 2) Processing clf, total= 1.3min\n",
      "Accuracy of the model: 0.917\n"
     ]
    }
   ],
   "source": [
    "tokenizer = WhitespaceTokenizer()\n",
    "\n",
    "hash_vec = TfidfVectorizer(preprocessor = clean_text, \n",
    "                             stop_words=stopwords.words('english'), \n",
    "                             ngram_range= (1, 2),\n",
    "                             tokenizer= lambda x: tokenizer.tokenize(x)\n",
    "                            )\n",
    "\n",
    "clf = OneVsRestClassifier(LogisticRegression(multi_class = 'multinomial', solver = 'lbfgs'))\n",
    "\n",
    "pipeline2 = Pipeline(steps = [('hash_vec', hash_vec),\n",
    "                 ('clf', clf)], verbose= True)\n",
    "\n",
    "pipeline2.fit(x_train, y_train)\n",
    "\n",
    "pred = pipeline2.predict(x_test)\n",
    "print (\"Accuracy of the model: %.3f\"%(accuracy_score(y_test, pred)))"
   ]
  },
  {
   "cell_type": "markdown",
   "metadata": {},
   "source": [
    "## Model 3\n",
    "\n",
    "Model with\n",
    "- Hashing Vectorization\n",
    "- Logistic Regression with multinomial "
   ]
  },
  {
   "cell_type": "code",
   "execution_count": 24,
   "metadata": {},
   "outputs": [
    {
     "name": "stdout",
     "output_type": "stream",
     "text": [
      "[Pipeline] .......... (step 1 of 2) Processing hash_vec, total=   7.1s\n",
      "[Pipeline] ............... (step 2 of 2) Processing clf, total= 2.7min\n",
      "Accuracy of the model: 0.922\n"
     ]
    }
   ],
   "source": [
    "tokenizer = WhitespaceTokenizer()\n",
    "\n",
    "hash_vec = HashingVectorizer(preprocessor = clean_text, \n",
    "                             stop_words=stopwords.words('english'), \n",
    "                             ngram_range= (1, 2),\n",
    "                             tokenizer= lambda x: tokenizer.tokenize(x)\n",
    "                            )\n",
    "\n",
    "clf = OneVsRestClassifier(LogisticRegression(multi_class = 'multinomial', solver = 'lbfgs'))\n",
    "\n",
    "pipeline3 = Pipeline(steps = [('hash_vec', hash_vec),\n",
    "                 ('clf', clf)], verbose= True)\n",
    "\n",
    "pipeline3.fit(x_train, y_train)\n",
    "\n",
    "pred = pipeline3.predict(x_test)\n",
    "print (\"Accuracy of the model: %.3f\"%(accuracy_score(y_test, pred)))"
   ]
  },
  {
   "cell_type": "markdown",
   "metadata": {},
   "source": [
    "#### Confusion Matrix"
   ]
  },
  {
   "cell_type": "code",
   "execution_count": 20,
   "metadata": {},
   "outputs": [],
   "source": [
    "def plot_confusion_matrix(y_true, y_pred, classes,\n",
    "                          normalize=False,\n",
    "                          title=None,\n",
    "                          cmap=plt.cm.Blues):\n",
    "    \"\"\"\n",
    "    This function prints and plots the confusion matrix.\n",
    "    Normalization can be applied by setting `normalize=True`.\n",
    "    \"\"\"\n",
    "    if not title:\n",
    "        if normalize:\n",
    "            title = 'Normalized confusion matrix'\n",
    "        else:\n",
    "            title = 'Confusion matrix, without normalization'\n",
    "\n",
    "    # Compute confusion matrix\n",
    "    cm = confusion_matrix(y_true, y_pred)\n",
    "    # Only use the labels that appear in the data\n",
    "    classes = classes[unique_labels(y_true - 1, y_pred - 1)]\n",
    "    if normalize:\n",
    "        cm = cm.astype('float') / cm.sum(axis=1)[:, np.newaxis]\n",
    "        print(\"Normalized confusion matrix\")\n",
    "    else:\n",
    "        print('Confusion matrix, without normalization')\n",
    "\n",
    "    fig, ax = plt.subplots()\n",
    "    im = ax.imshow(cm, interpolation='nearest', cmap=cmap)\n",
    "    ax.figure.colorbar(im, ax=ax)\n",
    "    plt.figsize = (10, 10)\n",
    "    # We want to show all ticks...\n",
    "    ax.set(xticks=np.arange(cm.shape[1]),\n",
    "           yticks=np.arange(cm.shape[0]),\n",
    "           # ... and label them with the respective list entries\n",
    "           xticklabels=classes, yticklabels=classes,\n",
    "           title=title,\n",
    "           ylabel='True label',\n",
    "           xlabel='Predicted label')\n",
    "\n",
    "    # Rotate the tick labels and set their alignment.\n",
    "    plt.setp(ax.get_xticklabels(), rotation=45, ha=\"right\",\n",
    "             rotation_mode=\"anchor\")\n",
    "\n",
    "    # Loop over data dimensions and create text annotations.\n",
    "    fmt = '.2f' if normalize else 'd'\n",
    "    thresh = cm.max() / 2.\n",
    "    for i in range(cm.shape[0]):\n",
    "        for j in range(cm.shape[1]):\n",
    "            ax.text(j, i, format(cm[i, j], fmt),\n",
    "                    ha=\"center\", va=\"center\",\n",
    "                    color=\"white\" if cm[i, j] > thresh else \"black\")\n",
    "#     fig.tight_layout()\n",
    "    return ax\n"
   ]
  },
  {
   "cell_type": "code",
   "execution_count": 21,
   "metadata": {},
   "outputs": [
    {
     "name": "stdout",
     "output_type": "stream",
     "text": [
      "Confusion matrix, without normalization\n"
     ]
    },
    {
     "data": {
      "text/plain": [
       "<matplotlib.axes._subplots.AxesSubplot at 0x22280364518>"
      ]
     },
     "execution_count": 21,
     "metadata": {},
     "output_type": "execute_result"
    },
    {
     "data": {
      "image/png": "[encoded data removed]",
      "text/plain": [
       "<Figure size 432x288 with 2 Axes>"
      ]
     },
     "metadata": {
      "needs_background": "light"
     },
     "output_type": "display_data"
    }
   ],
   "source": [
    "plot_confusion_matrix(y_test, pred, classes = categories['category'])"
   ]
  },
  {
   "cell_type": "markdown",
   "metadata": {},
   "source": [
    "## Predict Function"
   ]
  },
  {
   "cell_type": "code",
   "execution_count": 20,
   "metadata": {},
   "outputs": [],
   "source": [
    "def predict(content):\n",
    "    text = content['title'].str.cat(content['snippet'], na_rep = '', sep = '\\n').str.cat(content['news_description'], na_rep = '', sep = '\\n')\n",
    "    pred = pipeline3.predict(text)\n",
    "    return categories.loc[pred - 1, 'category'].to_list()"
   ]
  },
  {
   "cell_type": "code",
   "execution_count": 21,
   "metadata": {},
   "outputs": [
    {
     "data": {
      "text/plain": [
       "['Executive Movement',\n",
       " 'Executive Movement',\n",
       " 'Mergers and Acquisitions',\n",
       " 'Centre Setup and Expansion',\n",
       " 'Partnerships',\n",
       " 'Partnerships',\n",
       " 'Partnerships',\n",
       " 'Partnerships',\n",
       " 'Executive Movement',\n",
       " 'Executive Movement']"
      ]
     },
     "execution_count": 21,
     "metadata": {},
     "output_type": "execute_result"
    }
   ],
   "source": [
    "predict(new_article.iloc[0:10])"
   ]
  }
 ],
 "metadata": {
  "kernelspec": {
   "display_name": "Python 3",
   "language": "python",
   "name": "python3"
  },
  "language_info": {
   "codemirror_mode": {
    "name": "ipython",
    "version": 3
   },
   "file_extension": ".py",
   "mimetype": "text/x-python",
   "name": "python",
   "nbconvert_exporter": "python",
   "pygments_lexer": "ipython3",
   "version": "3.7.3"
  }
 },
 "nbformat": 4,
 "nbformat_minor": 4
}
