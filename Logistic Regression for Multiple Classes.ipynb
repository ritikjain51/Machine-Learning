{
 "cells": [
  {
   "cell_type": "code",
   "execution_count": 1,
   "metadata": {},
   "outputs": [],
   "source": [
    "import pandas as pd\n",
    "import numpy as np\n",
    "import matplotlib.pyplot as plt\n",
    "%matplotlib inline"
   ]
  },
  {
   "cell_type": "code",
   "execution_count": 17,
   "metadata": {},
   "outputs": [],
   "source": [
    "class LogisticRegression(object):\n",
    "    \n",
    "    def __init__(self, alpha = 0.1, tolerance = 0.01, fit_intercept = True, theta_init = 'rand'):\n",
    "        '''\n",
    "        : alpha: \n",
    "              It is the learning rate default (0.01)\n",
    "          tolerance:\n",
    "              Minimum value to reach default (0.001)\n",
    "          fit_intercept:\n",
    "              Adding 0th Vetor default (True)\n",
    "          theta_init:\n",
    "              Initial value of theta\n",
    "              rand - random values for initial vector (Default)\n",
    "              zero - zero values for initial vector\n",
    "              value - Giving own values\n",
    "        '''\n",
    "        self.alpha = alpha\n",
    "        self.tolerance = tolerance \n",
    "        self.intercept = fit_intercept\n",
    "        self.theta_init = theta_init\n",
    "        \n",
    "    \n",
    "    def __sigmoid__(self, X, weight):\n",
    "        sig = 1 / (1 + np.e ** -(np.dot(X, weight)))\n",
    "        return sig\n",
    "    \n",
    "    def __add_0th_feature__(self, X):\n",
    "        \n",
    "#         if X.shape[0] == self.theta.shape:\n",
    "#             return (np.concatenate(([1], X)))\n",
    "        ones = np.ones((X.shape[0], 1))\n",
    "        return np.concatenate((ones, X), axis = 1)\n",
    "    \n",
    "    def predict_prob(self, X):\n",
    "        if self.intercept:\n",
    "            X = self.__add_0th_feature__(X)\n",
    "        \n",
    "        logit = self.__sigmoid__(X, self.theta).reshape((X.shape[0], 1))\n",
    "        return np.concatenate((1 - logit, logit), axis = 1)\n",
    "    \n",
    "    def predict(self, X):\n",
    "        val = self.predict_prob(X)\n",
    "        return np.argmax(val, axis = 1)\n",
    "    \n",
    "    def one_hot_encoding(self, Y):\n",
    "        lab_vector = None\n",
    "        if np.min(Y) == 0:\n",
    "            mat = np.eye(np.max(Y) + 1)\n",
    "            lab_vector = mat[Y]\n",
    "        else:\n",
    "            mat = np.eye(np.max(Y))\n",
    "            lab_vector = mat[Y - 1]\n",
    "        return lab_vector\n",
    "        \n",
    "    \n",
    "    def plot_loss(self):\n",
    "        plt.xlabel('# of interation -->')\n",
    "        plt.ylabel('Rate of loss -->')\n",
    "        plt.title('Gradient loss graph')\n",
    "        plt.plot(range(self.count), self.loss_history)\n",
    "            \n",
    "    def fit(self, X, Y):\n",
    "        \n",
    "        if (self.intercept):\n",
    "            X = self.__add_0th_feature__(X)\n",
    "            \n",
    "        \n",
    "        loss = self.__gradient_descent__(X, Y)\n",
    "        return loss \n",
    "#         raise(NotImplementedError('Not Imp'))"
   ]
  },
  {
   "cell_type": "code",
   "execution_count": 18,
   "metadata": {},
   "outputs": [],
   "source": [
    "lb = LogisticRegression()\n"
   ]
  }
 ],
 "metadata": {
  "kernelspec": {
   "display_name": "Python 3",
   "language": "python",
   "name": "python3"
  },
  "language_info": {
   "codemirror_mode": {
    "name": "ipython",
    "version": 3
   },
   "file_extension": ".py",
   "mimetype": "text/x-python",
   "name": "python",
   "nbconvert_exporter": "python",
   "pygments_lexer": "ipython3",
   "version": "3.7.1"
  }
 },
 "nbformat": 4,
 "nbformat_minor": 2
}
