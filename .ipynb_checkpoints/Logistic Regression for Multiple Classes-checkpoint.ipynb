{
 "cells": [
  {
   "cell_type": "code",
   "execution_count": 2,
   "metadata": {},
   "outputs": [],
   "source": [
    "import pandas as pd\n",
    "import numpy as np\n",
    "import matplotlib.pyplot as plt\n",
    "%matplotlib inline"
   ]
  },
  {
   "cell_type": "code",
   "execution_count": 5,
   "metadata": {},
   "outputs": [],
   "source": [
    "x = np.random.normal(10, 1, (1000, 10))"
   ]
  },
  {
   "cell_type": "code",
   "execution_count": 6,
   "metadata": {},
   "outputs": [
    {
     "data": {
      "text/plain": [
       "(1000, 10)"
      ]
     },
     "execution_count": 6,
     "metadata": {},
     "output_type": "execute_result"
    }
   ],
   "source": [
    "x.shape"
   ]
  },
  {
   "cell_type": "code",
   "execution_count": 15,
   "metadata": {},
   "outputs": [
    {
     "data": {
      "text/plain": [
       "99870.35438133826"
      ]
     },
     "execution_count": 15,
     "metadata": {},
     "output_type": "execute_result"
    }
   ],
   "source": [
    "x.sum()"
   ]
  },
  {
   "cell_type": "code",
   "execution_count": 8,
   "metadata": {},
   "outputs": [],
   "source": [
    "s = pd.DataFrame(x)"
   ]
  },
  {
   "cell_type": "code",
   "execution_count": 16,
   "metadata": {},
   "outputs": [
    {
     "data": {
      "text/plain": [
       "0     9980.530767\n",
       "1     9951.305500\n",
       "2     9980.429976\n",
       "3     9963.408413\n",
       "4     9997.066486\n",
       "5     9960.021002\n",
       "6    10018.581317\n",
       "7     9989.441343\n",
       "8    10037.846331\n",
       "9     9991.723247\n",
       "dtype: float64"
      ]
     },
     "execution_count": 16,
     "metadata": {},
     "output_type": "execute_result"
    }
   ],
   "source": [
    "s.sum()"
   ]
  },
  {
   "cell_type": "markdown",
   "metadata": {},
   "source": [
    "8"
   ]
  },
  {
   "cell_type": "code",
   "execution_count": 8,
   "metadata": {},
   "outputs": [],
   "source": [
    "class LogisticRegression(object):\n",
    "    \n",
    "    def __init__(self, alpha = 0.1, tolerance = 0.01, fit_intercept = True, theta_init = 'rand'):\n",
    "        '''\n",
    "        : alpha: \n",
    "              It is the learning rate default (0.01)\n",
    "          tolerance:\n",
    "              Minimum value to reach default (0.001)\n",
    "          fit_intercept:\n",
    "              Adding 0th Vetor default (True)\n",
    "          theta_init:\n",
    "              Initial value of theta\n",
    "              rand - random values for initial vector (Default)\n",
    "              zero - zero values for initial vector\n",
    "              value - Giving own values\n",
    "        '''\n",
    "        self.alpha = alpha\n",
    "        self.tolerance = tolerance \n",
    "        self.intercept = fit_intercept\n",
    "        self.theta_init = theta_init\n",
    "        \n",
    "    \n",
    "    def __sigmoid__(self, X, weight):\n",
    "        sig = 1 / (1 + np.e ** -(np.dot(X, weight)))\n",
    "        return sig\n",
    "    \n",
    "    def __add_0th_feature__(self, X):\n",
    "        \n",
    "#         if X.shape[0] == self.theta.shape:\n",
    "#             return (np.concatenate(([1], X)))\n",
    "        ones = np.ones((X.shape[0], 1))\n",
    "        return np.concatenate((ones, X), axis = 1)\n",
    "    \n",
    "    def predict_prob(self, X):\n",
    "        if self.intercept:\n",
    "            X = self.__add_0th_feature__(X)\n",
    "        \n",
    "        logit = self.__sigmoid__(X, self.theta).reshape((X.shape[0], 1))\n",
    "        return np.concatenate((1 - logit, logit), axis = 1)\n",
    "    \n",
    "    def predict(self, X):\n",
    "        val = self.predict_prob(X)\n",
    "        return np.argmax(val, axis = 1)\n",
    "    \n",
    "    def one_hot_encoding(self, Y):\n",
    "        lab_vector = None\n",
    "        if np.min(Y) == 0:\n",
    "            mat = np.eye(np.max(Y) + 1)\n",
    "            lab_vector = mat[Y]\n",
    "        else:\n",
    "            mat = np.eye(np.max(Y))\n",
    "            lab_vector = mat[Y - 1]\n",
    "        return lab_vector\n",
    "        \n",
    "    \n",
    "    def plot_loss(self):\n",
    "        plt.xlabel('# of interation -->')\n",
    "        plt.ylabel('Rate of loss -->')\n",
    "        plt.title('Gradient loss graph')\n",
    "        plt.plot(range(self.count), self.loss_history)\n",
    "            \n",
    "            \n",
    "    def __gradient_descent__(self, X, Y):\n",
    "        \n",
    "        raise NotImplementedError('Not Implemented')\n",
    "        \n",
    "    def fit(self, X, Y):\n",
    "        \n",
    "#         if (self.intercept):\n",
    "#             X = self.__add_0th_feature__(X)\n",
    "            \n",
    "        \n",
    "        loss = self.__gradient_descent__(X, Y)\n",
    "        return loss \n",
    "#         raise(NotImplementedError('Not Imp'))"
   ]
  },
  {
   "cell_type": "code",
   "execution_count": 9,
   "metadata": {},
   "outputs": [
    {
     "ename": "NotImplementedError",
     "evalue": "Not Implemented",
     "output_type": "error",
     "traceback": [
      "\u001b[1;31m---------------------------------------------------------------------------\u001b[0m",
      "\u001b[1;31mNotImplementedError\u001b[0m                       Traceback (most recent call last)",
      "\u001b[1;32m<ipython-input-9-fea8895cb12c>\u001b[0m in \u001b[0;36m<module>\u001b[1;34m\u001b[0m\n\u001b[0;32m      1\u001b[0m \u001b[0mlb\u001b[0m \u001b[1;33m=\u001b[0m \u001b[0mLogisticRegression\u001b[0m\u001b[1;33m(\u001b[0m\u001b[1;33m)\u001b[0m\u001b[1;33m\u001b[0m\u001b[1;33m\u001b[0m\u001b[0m\n\u001b[1;32m----> 2\u001b[1;33m \u001b[0mlb\u001b[0m\u001b[1;33m.\u001b[0m\u001b[0mfit\u001b[0m\u001b[1;33m(\u001b[0m\u001b[1;36m2\u001b[0m\u001b[1;33m,\u001b[0m\u001b[1;36m1\u001b[0m\u001b[1;33m)\u001b[0m\u001b[1;33m\u001b[0m\u001b[1;33m\u001b[0m\u001b[0m\n\u001b[0m",
      "\u001b[1;32m<ipython-input-8-3c170cf2491d>\u001b[0m in \u001b[0;36mfit\u001b[1;34m(self, X, Y)\u001b[0m\n\u001b[0;32m     70\u001b[0m \u001b[1;33m\u001b[0m\u001b[0m\n\u001b[0;32m     71\u001b[0m \u001b[1;33m\u001b[0m\u001b[0m\n\u001b[1;32m---> 72\u001b[1;33m         \u001b[0mloss\u001b[0m \u001b[1;33m=\u001b[0m \u001b[0mself\u001b[0m\u001b[1;33m.\u001b[0m\u001b[0m__gradient_descent__\u001b[0m\u001b[1;33m(\u001b[0m\u001b[0mX\u001b[0m\u001b[1;33m,\u001b[0m \u001b[0mY\u001b[0m\u001b[1;33m)\u001b[0m\u001b[1;33m\u001b[0m\u001b[1;33m\u001b[0m\u001b[0m\n\u001b[0m\u001b[0;32m     73\u001b[0m         \u001b[1;32mreturn\u001b[0m \u001b[0mloss\u001b[0m\u001b[1;33m\u001b[0m\u001b[1;33m\u001b[0m\u001b[0m\n\u001b[0;32m     74\u001b[0m \u001b[1;31m#         raise(NotImplementedError('Not Imp'))\u001b[0m\u001b[1;33m\u001b[0m\u001b[1;33m\u001b[0m\u001b[1;33m\u001b[0m\u001b[0m\n",
      "\u001b[1;32m<ipython-input-8-3c170cf2491d>\u001b[0m in \u001b[0;36m__gradient_descent__\u001b[1;34m(self, X, Y)\u001b[0m\n\u001b[0;32m     62\u001b[0m \u001b[1;33m\u001b[0m\u001b[0m\n\u001b[0;32m     63\u001b[0m     \u001b[1;32mdef\u001b[0m \u001b[0m__gradient_descent__\u001b[0m\u001b[1;33m(\u001b[0m\u001b[0mself\u001b[0m\u001b[1;33m,\u001b[0m \u001b[0mX\u001b[0m\u001b[1;33m,\u001b[0m \u001b[0mY\u001b[0m\u001b[1;33m)\u001b[0m\u001b[1;33m:\u001b[0m\u001b[1;33m\u001b[0m\u001b[1;33m\u001b[0m\u001b[0m\n\u001b[1;32m---> 64\u001b[1;33m         \u001b[1;32mraise\u001b[0m \u001b[0mNotImplementedError\u001b[0m\u001b[1;33m(\u001b[0m\u001b[1;34m'Not Implemented'\u001b[0m\u001b[1;33m)\u001b[0m\u001b[1;33m\u001b[0m\u001b[1;33m\u001b[0m\u001b[0m\n\u001b[0m\u001b[0;32m     65\u001b[0m \u001b[1;33m\u001b[0m\u001b[0m\n\u001b[0;32m     66\u001b[0m     \u001b[1;32mdef\u001b[0m \u001b[0mfit\u001b[0m\u001b[1;33m(\u001b[0m\u001b[0mself\u001b[0m\u001b[1;33m,\u001b[0m \u001b[0mX\u001b[0m\u001b[1;33m,\u001b[0m \u001b[0mY\u001b[0m\u001b[1;33m)\u001b[0m\u001b[1;33m:\u001b[0m\u001b[1;33m\u001b[0m\u001b[1;33m\u001b[0m\u001b[0m\n",
      "\u001b[1;31mNotImplementedError\u001b[0m: Not Implemented"
     ]
    }
   ],
   "source": [
    "lb = LogisticRegression()\n",
    "lb.fit(2,1)"
   ]
  },
  {
   "cell_type": "code",
   "execution_count": null,
   "metadata": {},
   "outputs": [],
   "source": []
  }
 ],
 "metadata": {
  "kernelspec": {
   "display_name": "Python 3",
   "language": "python",
   "name": "python3"
  },
  "language_info": {
   "codemirror_mode": {
    "name": "ipython",
    "version": 3
   },
   "file_extension": ".py",
   "mimetype": "text/x-python",
   "name": "python",
   "nbconvert_exporter": "python",
   "pygments_lexer": "ipython3",
   "version": "3.7.3"
  }
 },
 "nbformat": 4,
 "nbformat_minor": 2
}
