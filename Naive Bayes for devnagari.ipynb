{
 "cells": [
  {
   "cell_type": "code",
   "execution_count": 24,
   "metadata": {},
   "outputs": [],
   "source": [
    "import os\n",
    "import matplotlib.pyplot as plt\n",
    "import numpy as np\n",
    "import pandas as pd\n",
    "from tqdm import tqdm_notebook as tqdm"
   ]
  },
  {
   "cell_type": "code",
   "execution_count": 2,
   "metadata": {},
   "outputs": [],
   "source": [
    "path = os.path.join(os.getcwd(), '..', 'DevanagariHandwrittenCharacterDataset')\n",
    "\n",
    "train_path = os.path.join(path, 'train')\n",
    "test_path = os.path.join(path, 'test')"
   ]
  },
  {
   "cell_type": "code",
   "execution_count": 3,
   "metadata": {},
   "outputs": [],
   "source": [
    "def generate_data(path):\n",
    "    labels = ''\n",
    "    images = []\n",
    "    for folder in tqdm(os.listdir(path)):\n",
    "        label = folder.split('_')[-1]\n",
    "        image_paths = os.listdir(os.path.join(path, folder))\n",
    "        data = list(map( lambda image: plt.imread(os.path.join(path, folder, image)).reshape(1024), image_paths))\n",
    "        images.extend(data)\n",
    "        labels += (label + ',') * len(image_paths)\n",
    "    labels = labels.split(',')\n",
    "    return np.array(images), np.array(labels[:-1])"
   ]
  },
  {
   "cell_type": "code",
   "execution_count": 4,
   "metadata": {},
   "outputs": [
    {
     "data": {
      "application/vnd.jupyter.widget-view+json": {
       "model_id": "",
       "version_major": 2,
       "version_minor": 0
      },
      "text/plain": [
       "HBox(children=(IntProgress(value=0, max=46), HTML(value='')))"
      ]
     },
     "metadata": {},
     "output_type": "display_data"
    },
    {
     "name": "stdout",
     "output_type": "stream",
     "text": [
      "\n"
     ]
    }
   ],
   "source": [
    "images, labels = generate_data(train_path)"
   ]
  },
  {
   "cell_type": "code",
   "execution_count": 5,
   "metadata": {},
   "outputs": [
    {
     "data": {
      "text/plain": [
       "array([[0., 0., 0., ..., 0., 0., 0.],\n",
       "       [0., 0., 0., ..., 0., 0., 0.],\n",
       "       [0., 0., 0., ..., 0., 0., 0.],\n",
       "       ...,\n",
       "       [0., 0., 0., ..., 0., 0., 0.],\n",
       "       [0., 0., 0., ..., 0., 0., 0.],\n",
       "       [0., 0., 0., ..., 0., 0., 0.]], dtype=float32)"
      ]
     },
     "execution_count": 5,
     "metadata": {},
     "output_type": "execute_result"
    }
   ],
   "source": [
    "images"
   ]
  },
  {
   "cell_type": "code",
   "execution_count": null,
   "metadata": {},
   "outputs": [],
   "source": []
  },
  {
   "cell_type": "code",
   "execution_count": 6,
   "metadata": {},
   "outputs": [],
   "source": [
    "# Converting Numpy array to Pandas Dataframe\n",
    "df = pd.DataFrame(images)"
   ]
  },
  {
   "cell_type": "code",
   "execution_count": 25,
   "metadata": {},
   "outputs": [],
   "source": [
    "## We need to normalize the dataframe.\n",
    "df = df - df.mean()\n",
    "\n",
    "df = df / df.max()\n",
    "df.fillna(0, inplace = True)"
   ]
  },
  {
   "cell_type": "markdown",
   "metadata": {},
   "source": [
    "Extracting the unique classes"
   ]
  },
  {
   "cell_type": "code",
   "execution_count": 8,
   "metadata": {},
   "outputs": [
    {
     "name": "stdout",
     "output_type": "stream",
     "text": [
      "['0' '1' '2' '3' '4' '5' '6' '7' '8' '9' 'adna' 'ba' 'bha' 'cha' 'chha'\n",
      " 'chhya' 'da' 'daa' 'dha' 'dhaa' 'ga' 'gha' 'gya' 'ha' 'ja' 'jha' 'ka'\n",
      " 'kha' 'kna' 'la' 'ma' 'motosaw' 'na' 'pa' 'patalosaw' 'petchiryakha'\n",
      " 'pha' 'ra' 'taamatar' 'tabala' 'tha' 'thaa' 'tra' 'waw' 'yaw' 'yna']\n"
     ]
    },
    {
     "data": {
      "text/plain": [
       "(46,)"
      ]
     },
     "execution_count": 8,
     "metadata": {},
     "output_type": "execute_result"
    }
   ],
   "source": [
    "unique_classes = np.unique(labels)\n",
    "\n",
    "print (unique_classes)\n",
    "unique_classes.shape"
   ]
  },
  {
   "cell_type": "code",
   "execution_count": 9,
   "metadata": {},
   "outputs": [
    {
     "data": {
      "text/html": [
       "<div>\n",
       "<style scoped>\n",
       "    .dataframe tbody tr th:only-of-type {\n",
       "        vertical-align: middle;\n",
       "    }\n",
       "\n",
       "    .dataframe tbody tr th {\n",
       "        vertical-align: top;\n",
       "    }\n",
       "\n",
       "    .dataframe thead th {\n",
       "        text-align: right;\n",
       "    }\n",
       "</style>\n",
       "<table border=\"1\" class=\"dataframe\">\n",
       "  <thead>\n",
       "    <tr style=\"text-align: right;\">\n",
       "      <th></th>\n",
       "      <th>0</th>\n",
       "      <th>1</th>\n",
       "      <th>2</th>\n",
       "      <th>3</th>\n",
       "      <th>4</th>\n",
       "      <th>5</th>\n",
       "      <th>6</th>\n",
       "      <th>7</th>\n",
       "      <th>8</th>\n",
       "      <th>9</th>\n",
       "      <th>...</th>\n",
       "      <th>1014</th>\n",
       "      <th>1015</th>\n",
       "      <th>1016</th>\n",
       "      <th>1017</th>\n",
       "      <th>1018</th>\n",
       "      <th>1019</th>\n",
       "      <th>1020</th>\n",
       "      <th>1021</th>\n",
       "      <th>1022</th>\n",
       "      <th>1023</th>\n",
       "    </tr>\n",
       "  </thead>\n",
       "  <tbody>\n",
       "    <tr>\n",
       "      <th>0</th>\n",
       "      <td>0.0</td>\n",
       "      <td>0.0</td>\n",
       "      <td>0.0</td>\n",
       "      <td>0.0</td>\n",
       "      <td>0.0</td>\n",
       "      <td>0.0</td>\n",
       "      <td>0.0</td>\n",
       "      <td>0.0</td>\n",
       "      <td>0.0</td>\n",
       "      <td>0.0</td>\n",
       "      <td>...</td>\n",
       "      <td>0.0</td>\n",
       "      <td>0.0</td>\n",
       "      <td>0.0</td>\n",
       "      <td>0.0</td>\n",
       "      <td>0.0</td>\n",
       "      <td>0.0</td>\n",
       "      <td>0.0</td>\n",
       "      <td>0.0</td>\n",
       "      <td>0.0</td>\n",
       "      <td>0.0</td>\n",
       "    </tr>\n",
       "    <tr>\n",
       "      <th>1</th>\n",
       "      <td>0.0</td>\n",
       "      <td>0.0</td>\n",
       "      <td>0.0</td>\n",
       "      <td>0.0</td>\n",
       "      <td>0.0</td>\n",
       "      <td>0.0</td>\n",
       "      <td>0.0</td>\n",
       "      <td>0.0</td>\n",
       "      <td>0.0</td>\n",
       "      <td>0.0</td>\n",
       "      <td>...</td>\n",
       "      <td>0.0</td>\n",
       "      <td>0.0</td>\n",
       "      <td>0.0</td>\n",
       "      <td>0.0</td>\n",
       "      <td>0.0</td>\n",
       "      <td>0.0</td>\n",
       "      <td>0.0</td>\n",
       "      <td>0.0</td>\n",
       "      <td>0.0</td>\n",
       "      <td>0.0</td>\n",
       "    </tr>\n",
       "    <tr>\n",
       "      <th>2</th>\n",
       "      <td>0.0</td>\n",
       "      <td>0.0</td>\n",
       "      <td>0.0</td>\n",
       "      <td>0.0</td>\n",
       "      <td>0.0</td>\n",
       "      <td>0.0</td>\n",
       "      <td>0.0</td>\n",
       "      <td>0.0</td>\n",
       "      <td>0.0</td>\n",
       "      <td>0.0</td>\n",
       "      <td>...</td>\n",
       "      <td>0.0</td>\n",
       "      <td>0.0</td>\n",
       "      <td>0.0</td>\n",
       "      <td>0.0</td>\n",
       "      <td>0.0</td>\n",
       "      <td>0.0</td>\n",
       "      <td>0.0</td>\n",
       "      <td>0.0</td>\n",
       "      <td>0.0</td>\n",
       "      <td>0.0</td>\n",
       "    </tr>\n",
       "    <tr>\n",
       "      <th>3</th>\n",
       "      <td>0.0</td>\n",
       "      <td>0.0</td>\n",
       "      <td>0.0</td>\n",
       "      <td>0.0</td>\n",
       "      <td>0.0</td>\n",
       "      <td>0.0</td>\n",
       "      <td>0.0</td>\n",
       "      <td>0.0</td>\n",
       "      <td>0.0</td>\n",
       "      <td>0.0</td>\n",
       "      <td>...</td>\n",
       "      <td>0.0</td>\n",
       "      <td>0.0</td>\n",
       "      <td>0.0</td>\n",
       "      <td>0.0</td>\n",
       "      <td>0.0</td>\n",
       "      <td>0.0</td>\n",
       "      <td>0.0</td>\n",
       "      <td>0.0</td>\n",
       "      <td>0.0</td>\n",
       "      <td>0.0</td>\n",
       "    </tr>\n",
       "    <tr>\n",
       "      <th>4</th>\n",
       "      <td>0.0</td>\n",
       "      <td>0.0</td>\n",
       "      <td>0.0</td>\n",
       "      <td>0.0</td>\n",
       "      <td>0.0</td>\n",
       "      <td>0.0</td>\n",
       "      <td>0.0</td>\n",
       "      <td>0.0</td>\n",
       "      <td>0.0</td>\n",
       "      <td>0.0</td>\n",
       "      <td>...</td>\n",
       "      <td>0.0</td>\n",
       "      <td>0.0</td>\n",
       "      <td>0.0</td>\n",
       "      <td>0.0</td>\n",
       "      <td>0.0</td>\n",
       "      <td>0.0</td>\n",
       "      <td>0.0</td>\n",
       "      <td>0.0</td>\n",
       "      <td>0.0</td>\n",
       "      <td>0.0</td>\n",
       "    </tr>\n",
       "  </tbody>\n",
       "</table>\n",
       "<p>5 rows × 1024 columns</p>\n",
       "</div>"
      ],
      "text/plain": [
       "   0     1     2     3     4     5     6     7     8     9     ...  1014  \\\n",
       "0   0.0   0.0   0.0   0.0   0.0   0.0   0.0   0.0   0.0   0.0  ...   0.0   \n",
       "1   0.0   0.0   0.0   0.0   0.0   0.0   0.0   0.0   0.0   0.0  ...   0.0   \n",
       "2   0.0   0.0   0.0   0.0   0.0   0.0   0.0   0.0   0.0   0.0  ...   0.0   \n",
       "3   0.0   0.0   0.0   0.0   0.0   0.0   0.0   0.0   0.0   0.0  ...   0.0   \n",
       "4   0.0   0.0   0.0   0.0   0.0   0.0   0.0   0.0   0.0   0.0  ...   0.0   \n",
       "\n",
       "   1015  1016  1017  1018  1019  1020  1021  1022  1023  \n",
       "0   0.0   0.0   0.0   0.0   0.0   0.0   0.0   0.0   0.0  \n",
       "1   0.0   0.0   0.0   0.0   0.0   0.0   0.0   0.0   0.0  \n",
       "2   0.0   0.0   0.0   0.0   0.0   0.0   0.0   0.0   0.0  \n",
       "3   0.0   0.0   0.0   0.0   0.0   0.0   0.0   0.0   0.0  \n",
       "4   0.0   0.0   0.0   0.0   0.0   0.0   0.0   0.0   0.0  \n",
       "\n",
       "[5 rows x 1024 columns]"
      ]
     },
     "execution_count": 9,
     "metadata": {},
     "output_type": "execute_result"
    }
   ],
   "source": [
    "df.head()"
   ]
  },
  {
   "cell_type": "code",
   "execution_count": 10,
   "metadata": {},
   "outputs": [
    {
     "data": {
      "text/plain": [
       "array([0.])"
      ]
     },
     "execution_count": 10,
     "metadata": {},
     "output_type": "execute_result"
    }
   ],
   "source": [
    "df[4].unique()"
   ]
  },
  {
   "cell_type": "code",
   "execution_count": 11,
   "metadata": {},
   "outputs": [
    {
     "data": {
      "text/plain": [
       "array([[0., 0., 0., ..., 0., 0., 0.],\n",
       "       [0., 0., 0., ..., 0., 0., 0.],\n",
       "       [0., 0., 0., ..., 0., 0., 0.],\n",
       "       ...,\n",
       "       [0., 0., 0., ..., 0., 0., 0.],\n",
       "       [0., 0., 0., ..., 0., 0., 0.],\n",
       "       [0., 0., 0., ..., 0., 0., 0.]], dtype=float32)"
      ]
     },
     "execution_count": 11,
     "metadata": {},
     "output_type": "execute_result"
    }
   ],
   "source": [
    "np.array(df.iloc[0]).reshape(32,32)"
   ]
  },
  {
   "cell_type": "code",
   "execution_count": 12,
   "metadata": {
    "scrolled": true
   },
   "outputs": [
    {
     "data": {
      "text/plain": [
       "<matplotlib.image.AxesImage at 0x2778643b4a8>"
      ]
     },
     "execution_count": 12,
     "metadata": {},
     "output_type": "execute_result"
    },
    {
     "data": {
      "image/png": "[encoded data removed]",
      "text/plain": [
       "<Figure size 432x288 with 1 Axes>"
      ]
     },
     "metadata": {
      "needs_background": "light"
     },
     "output_type": "display_data"
    }
   ],
   "source": [
    "plt.imshow(np.array(df.iloc[0]).reshape(32,32), cmap = plt.get_cmap('gray'))"
   ]
  },
  {
   "cell_type": "markdown",
   "metadata": {},
   "source": [
    "Covariance is a measure of the extent to which corresponding elements from two sets of ordered data move in the same direction. We use the following formula to compute covariance.\n",
    "\n",
    "Covariance matrix is a symmatric and squared matrix. \n",
    "\n",
    "We need the covariance matrix to be \n",
    "- Non-Singular\n",
    "- Positive Definite"
   ]
  },
  {
   "cell_type": "markdown",
   "metadata": {},
   "source": [
    "Non-Singularity of a matrix is some of the matrix vectors are linearly dependent.<br>\n",
    "We can check the non-singularity of the matrix \n",
    "- Calculating the determinant of the covariance matrix ( If determinant is zero that means matrix is singular). \n",
    "\n"
   ]
  },
  {
   "cell_type": "code",
   "execution_count": 13,
   "metadata": {},
   "outputs": [
    {
     "name": "stdout",
     "output_type": "stream",
     "text": [
      "Determinant of Covariance Matrix: 0.0\n"
     ]
    }
   ],
   "source": [
    "## Calculating the determinant\n",
    "cov = df.cov()\n",
    "det = np.linalg.det(cov)\n",
    "print ('Determinant of Covariance Matrix: %.1f'%det)"
   ]
  },
  {
   "cell_type": "markdown",
   "metadata": {},
   "source": [
    "Determinant of Covariance matrix is 0. That means that matrix is Singular. \n",
    "\n",
    "So, now we have to choose the columns which are linearly independent. For that we can use \n",
    "\n",
    "**Principle Component Analysis**<br>\n",
    "PCA is a dimensionality reduction algorithm, which we use to when we have too many dimensions. So, it will be computationally complex to make calculation for 1million feature. So, we have to take only those feature vector which having very high variance. And leave others.\n",
    "\n",
    "\n",
    "PCA is using Singular Value Decomposition to extract features with "
   ]
  },
  {
   "cell_type": "code",
   "execution_count": 26,
   "metadata": {},
   "outputs": [],
   "source": [
    "def PCA(data, labels):\n",
    "    \n",
    "    ## We are taking the data columns. \n",
    "    global unique_classes\n",
    "    \n",
    "    cov_mat = list(map(lambda y: data[y == labels].cov(), unique_classes))\n",
    "\n",
    "    svd_mat = list(map(lambda x: np.linalg.svd(x), cov_mat))\n",
    "    \n",
    "    ## Taking column number \n",
    "    col_no = np.array(list(map(lambda x: np.argmax(x[0], axis = 1), svd_mat)))\n",
    "    \n",
    "    \n",
    "    col_val = list(map(lambda x: set(col_no[:, x]), np.arange(col_no.shape[1])))\n",
    "\n",
    "    cols = []\n",
    "    \n",
    "    for i in col_val:\n",
    "        if (len(i) == 1):\n",
    "            cols.extend(i)\n",
    "        \n",
    "    return cols"
   ]
  },
  {
   "cell_type": "code",
   "execution_count": 27,
   "metadata": {},
   "outputs": [],
   "source": [
    "column_names = PCA(df, labels)"
   ]
  },
  {
   "cell_type": "code",
   "execution_count": 84,
   "metadata": {},
   "outputs": [],
   "source": [
    "data = PCA(0.95).fit_transform(df)"
   ]
  },
  {
   "cell_type": "code",
   "execution_count": 85,
   "metadata": {},
   "outputs": [
    {
     "data": {
      "text/plain": [
       "(78200, 174)"
      ]
     },
     "execution_count": 85,
     "metadata": {},
     "output_type": "execute_result"
    }
   ],
   "source": [
    "data.shape"
   ]
  },
  {
   "cell_type": "markdown",
   "metadata": {},
   "source": [
    "Here, I got the data columns for every class labels. Now, i have to find all the "
   ]
  },
  {
   "cell_type": "code",
   "execution_count": 28,
   "metadata": {},
   "outputs": [],
   "source": [
    "data = df[column_names]"
   ]
  },
  {
   "cell_type": "markdown",
   "metadata": {},
   "source": [
    "Here, i am spliting my normalized and filtered data into training data and testing data. "
   ]
  },
  {
   "cell_type": "code",
   "execution_count": 29,
   "metadata": {},
   "outputs": [],
   "source": [
    "def train_test_split(x, y, test_split = 0.5, rand_state = 10):\n",
    "    np.random.seed(rand_state)\n",
    "    mask = np.random.rand(x.shape[0]) < test_split\n",
    "    x_test = x[mask]\n",
    "    y_test = y[mask]\n",
    "    x_train = x[~mask]\n",
    "    y_train = y[~mask]\n",
    "    return x_train, x_test, y_train, y_test"
   ]
  },
  {
   "cell_type": "code",
   "execution_count": 31,
   "metadata": {},
   "outputs": [],
   "source": [
    "x_train, x_test, y_train, y_test = train_test_split(data, labels, test_split = 0.3)"
   ]
  },
  {
   "cell_type": "markdown",
   "metadata": {},
   "source": [
    "We have to are nt able to find the Solution for the dataset using PCA (Principle Component Analysis). So now, we have to find the columns using RDA (Regularized Discriminant Analysis).\n",
    "\n",
    "RDA is a decision boundary technique which creates a non-linear decision boundary using a hybrid approach of linear and non-linear decision boundary. \n",
    "\n",
    "In the following approach we have are adding the LDA and QDA. \n",
    "\n",
    "$$\\Sigma_{RDA} = \\Gamma \\Sigma_{p} + (1 - \\Gamma) \\Sigma_{pooled}$$\n",
    "\n",
    "To find Pooled Covariance Matrix.\n",
    "\n",
    "$$\\Sigma_{pool} =  \\frac{\\Sigma_{i = 1}^{K} n_i\\Sigma_i}{N - K} $$\n",
    "Where $n$ is the number rows of each classes<br>\n",
    "$N$ is the total number of rows in dataset.<br>\n",
    "$K$ is number of classes"
   ]
  },
  {
   "cell_type": "code",
   "execution_count": 32,
   "metadata": {},
   "outputs": [],
   "source": [
    "def RDA(data, labels):\n",
    "    \n",
    "    global unique_classes\n",
    "    \n",
    "    cov_mat_estimate = list(map(lambda x:data[labels == x].cov() , unique_classes))\n",
    "    mat = []\n",
    "    mat.extend(map(lambda x, y: np.count_nonzero(labels == y) * x, cov_mat_estimate, unique_classes))\n",
    "    \n",
    "    first_param = 0.1  \n",
    "    \n",
    "    pooled_matrix = (1 - first_param) * sum(mat) / (labels.shape[0] - np.unique(labels).shape[0])\n",
    "\n",
    "    cov_pool_matrix = list(map(lambda x: (x * first_param) + ((1 - first_param) * pooled_matrix), cov_mat_estimate))\n",
    "\n",
    "    second_param = 0.13\n",
    "    \n",
    "    sigma = list(map( lambda x: np.trace(x) / x.shape[0], cov_pool_matrix))\n",
    "    cov_rda_mat = list(map(lambda x, y: ((1 - second_param) * x) + (second_param * y * np.eye(x.shape[0])),cov_pool_matrix, sigma))\n",
    "    \n",
    "    return cov_rda_mat"
   ]
  },
  {
   "cell_type": "code",
   "execution_count": 33,
   "metadata": {},
   "outputs": [],
   "source": [
    "cov = RDA(x_train, y_train)"
   ]
  },
  {
   "cell_type": "code",
   "execution_count": 34,
   "metadata": {},
   "outputs": [
    {
     "data": {
      "text/plain": [
       "9.33439675814733e-69"
      ]
     },
     "execution_count": 34,
     "metadata": {},
     "output_type": "execute_result"
    }
   ],
   "source": [
    "np.linalg.det(cov[2])"
   ]
  },
  {
   "cell_type": "code",
   "execution_count": 35,
   "metadata": {},
   "outputs": [],
   "source": [
    "def estimate_class_mean(x_train, y_train):\n",
    "    \n",
    "    global unique_classes\n",
    "    ##we have to perform random sampling for every class. \n",
    "    ## Calculate the mean on the samples \n",
    "    ## Find the mean for the value. \n",
    "\n",
    "    est_sample_mean = list(map( lambda y: x_train[y == y_train].mean(), unique_classes))\n",
    "    return est_sample_mean"
   ]
  },
  {
   "cell_type": "code",
   "execution_count": 36,
   "metadata": {},
   "outputs": [],
   "source": [
    "mu_value = estimate_class_mean(x_train, y_train)"
   ]
  },
  {
   "cell_type": "code",
   "execution_count": null,
   "metadata": {},
   "outputs": [],
   "source": []
  },
  {
   "cell_type": "markdown",
   "metadata": {},
   "source": [
    "Writing code for joint gaussian probability distribution. \n",
    "\n",
    "Formula \n",
    "\n",
    "\\begin{equation}\n",
    "P(X_0 = x_0 \\cap X_1 = x_1 \\cap ... \\cap X_N = x_n | y = अ) = \\frac{P(Y = अ | X_0 = x_0 \\cap X_1 = x_1 \\cap ... \\cap X_N = x_n)P(अ)}{Total Porbability} \\end{equation}<br>\n",
    "So, we are assuming all the feature are gaussianly distributed. \n",
    "Then we can use <b>Gaussian Probabilty Distribution Function</b> to calculate the probability for every character. \n",
    "\n",
    "$$P(X_0 = x_0 \\cap X_1 = x_1 \\cap ... \\cap X_N = x_n | y = अ) = P(X_0 = x_0 | y = अ)\\thinspace \\cap P(X_0 = x_0 | y = अ) \\thinspace\\cap... \\cap\\thinspace P(X_N = x_N | y = अ) $$\n",
    "\n",
    "Every image have total 1024 pixels. So we have to create the probability distribution function for 1024 values. Which is computationally expensive. \n",
    "So, we can use a different type of distribution where instead of dealing with one pixel per pdf. We can input all the pixels at once and make computation on all parameters at once. \n",
    "This type of probability distribution function is known as **Joint Probability Distribution Function**. \n",
    "\n",
    "So, Joint PDF for Gaussian Distribution is:\n",
    "\n",
    "\n",
    "$$P(X_0 = x_0 \\cap X_1 = x_1\\cap...\\cap X_N = x_n) = \\frac{1}{\\sqrt{({2 \\pi})^n} {\\sqrt{\\det({\\Sigma})}}} e ^ {-\\frac{1}{2}{\\begin{bmatrix} x_0 - \\mu_{x_0} \\\\ . \\\\ .\\\\ x_N - \\mu_{x_n}\\end{bmatrix}}^T \\thinspace\\Sigma^{-1} \\begin{bmatrix} x_0 - \\mu_{x_0} \\\\ . \\\\ .\\\\ x_N - \\mu_{x_n}\\end{bmatrix}  } $$\n"
   ]
  },
  {
   "cell_type": "code",
   "execution_count": 51,
   "metadata": {},
   "outputs": [],
   "source": [
    "def Gauss_joint_pdf(x, mu, cov):\n",
    "    \n",
    "    det = np.linalg.det(cov)\n",
    "#     print ('Shape:', x.shape[1])\n",
    "#     print ('Determinant:' ,det)\n",
    "    first =  1/ np.sqrt( ((2 * np.pi) ** x.shape[1]) * det)\n",
    "#     print ('First: ', first)\n",
    "    zero_mean = x - mu\n",
    "#     print ('mean Value:', zero_mean)\n",
    "    inv = np.linalg.inv(cov)\n",
    "#     print('Inverse', inv)\n",
    "    val = inv @ zero_mean.T\n",
    "#     print ('Value', val)\n",
    "    second = - 0.5 * (np.dot(zero_mean, val))\n",
    "    print (np.exp(second))\n",
    "    return first * np.exp(second)"
   ]
  },
  {
   "cell_type": "code",
   "execution_count": 52,
   "metadata": {},
   "outputs": [
    {
     "name": "stdout",
     "output_type": "stream",
     "text": [
      "Iteration: 0\n",
      "[[3.33951631e-13 2.65047160e-03]\n",
      " [2.65047160e-03 6.57279774e-19]]\n",
      "[[7.55685854e-04 5.99764669e+06]\n",
      " [5.99764669e+06 1.48733224e-09]]\n",
      "Iteration: 1\n",
      "[[1.39998220e-14 9.14263793e-05]\n",
      " [9.14263793e-05 1.58914147e-20]]\n",
      "[[7.67264829e-05 5.01065267e+05]\n",
      " [5.01065267e+05 8.70934191e-11]]\n",
      "Iteration: 2\n",
      "[[1.24515782e-12 6.17238528e-03]\n",
      " [6.17238528e-03 5.82469954e-18]]\n",
      "[[9.27930430e-04 4.59985398e+06]\n",
      " [4.59985398e+06 4.34074773e-09]]\n",
      "Iteration: 3\n",
      "[[8.81065801e-13 2.82702268e-03]\n",
      " [2.82702268e-03 6.60858435e-18]]\n",
      "[[5.68647237e-04 1.82458408e+06]\n",
      " [1.82458408e+06 4.26523562e-09]]\n",
      "Iteration: 4\n",
      "[[3.51583590e-10 4.65115466e-01]\n",
      " [4.65115466e-01 8.11031099e-16]]\n",
      "[[3.22302874e-01 4.26379546e+08]\n",
      " [4.26379546e+08 7.43486503e-07]]\n",
      "Iteration: 5\n",
      "[[8.23486031e-12 1.97644214e-02]\n",
      " [1.97644214e-02 8.41286380e-17]]\n",
      "[[3.01049188e-03 7.22545712e+06]\n",
      " [7.22545712e+06 3.07556622e-08]]\n",
      "Iteration: 6\n",
      "[[1.07210775e-12 3.10720275e-03]\n",
      " [3.10720275e-03 5.36880567e-18]]\n",
      "[[8.06673547e-04 2.33791638e+06]\n",
      " [2.33791638e+06 4.03958793e-09]]\n",
      "Iteration: 7\n",
      "[[1.27217896e-13 1.57733808e-02]\n",
      " [1.57733808e-02 9.58874282e-16]]\n",
      "[[6.64434346e-05 8.23813023e+06]\n",
      " [8.23813023e+06 5.00801402e-07]]\n",
      "Iteration: 8\n",
      "[[3.25715377e-12 9.57094720e-03]\n",
      " [9.57094720e-03 8.52277951e-18]]\n",
      "[[3.03946397e-03 8.93127904e+06]\n",
      " [8.93127904e+06 7.95316497e-09]]\n",
      "Iteration: 9\n",
      "[[4.54945342e-12 1.44933386e-02]\n",
      " [1.44933386e-02 3.27100891e-17]]\n",
      "[[3.69263293e-03 1.17637383e+07]\n",
      " [1.17637383e+07 2.65496404e-08]]\n",
      "Iteration: 10\n",
      "[[9.77422645e-11 3.39093581e-03]\n",
      " [3.39093581e-03 1.04333766e-19]]\n",
      "[[7.25892699e-02 2.51831238e+06]\n",
      " [2.51831238e+06 7.74845144e-11]]\n",
      "Iteration: 11\n",
      "[[1.60427506e-11 2.69659538e-02]\n",
      " [2.69659538e-02 3.36832990e-17]]\n",
      "[[8.62177819e-03 1.44921827e+07]\n",
      " [1.44921827e+07 1.81022532e-08]]\n",
      "Iteration: 12\n",
      "[[9.77417812e-11 1.01407523e-02]\n",
      " [1.01407523e-02 1.62689034e-18]]\n",
      "[[5.73427027e-02 5.94933031e+06]\n",
      " [5.94933031e+06 9.54456610e-10]]\n",
      "Iteration: 13\n",
      "[[4.24243223e-12 3.23903200e-03]\n",
      " [3.23903200e-03 4.61073179e-19]]\n",
      "[[4.12603514e-03 3.15016461e+06]\n",
      " [3.15016461e+06 4.48422989e-10]]\n",
      "Iteration: 14\n",
      "[[4.19695540e-12 9.58277960e-03]\n",
      " [9.58277960e-03 2.72795287e-17]]\n",
      "[[2.69644245e-03 6.15670437e+06]\n",
      " [6.15670437e+06 1.75264381e-08]]\n",
      "Iteration: 15\n",
      "[[1.53509587e-11 7.39660829e-03]\n",
      " [7.39660829e-03 2.46527501e-18]]\n",
      "[[2.55928534e-02 1.23314977e+07]\n",
      " [1.23314977e+07 4.11006395e-09]]\n",
      "Iteration: 16\n",
      "[[5.60308737e-12 4.54453369e-03]\n",
      " [4.54453369e-03 2.93874009e-18]]\n",
      "[[4.99630025e-03 4.05238278e+06]\n",
      " [4.05238278e+06 2.62048882e-09]]\n",
      "Iteration: 17\n",
      "[[6.34811548e-11 9.76090240e-02]\n",
      " [9.76090240e-02 6.86627303e-17]]\n",
      "[[5.17669672e-02 7.95972153e+07]\n",
      " [7.95972153e+07 5.59923858e-08]]\n",
      "Iteration: 18\n",
      "[[2.46956947e-11 5.24055358e-03]\n",
      " [5.24055358e-03 1.46984858e-18]]\n",
      "[[1.51652489e-02 3.21814390e+06]\n",
      " [3.21814390e+06 9.02611558e-10]]\n",
      "Iteration: 19\n",
      "[[1.28100086e-11 2.66412483e-02]\n",
      " [2.66412483e-02 7.45429976e-17]]\n",
      "[[4.31794136e-03 8.98011478e+06]\n",
      " [8.98011478e+06 2.51266257e-08]]\n",
      "Iteration: 20\n",
      "[[4.92963493e-10 1.02959181e-02]\n",
      " [1.02959181e-02 1.07463119e-18]]\n",
      "[[3.16390944e-01 6.60806593e+06]\n",
      " [6.60806593e+06 6.89713502e-10]]\n",
      "Iteration: 21\n",
      "[[2.69176345e-11 1.13123528e-02]\n",
      " [1.13123528e-02 3.03355345e-18]]\n",
      "[[1.87290418e-02 7.87103073e+06]\n",
      " [7.87103073e+06 2.11071851e-09]]\n",
      "Iteration: 22\n",
      "[[1.22305720e-10 4.06459663e-02]\n",
      " [4.06459663e-02 4.96075197e-17]]\n",
      "[[9.31048576e-02 3.09416182e+07]\n",
      " [3.09416182e+07 3.77635735e-08]]\n",
      "Iteration: 23\n",
      "[[5.76125075e-11 1.50559732e-01]\n",
      " [1.50559732e-01 2.73762402e-17]]\n",
      "[[9.91101144e-02 2.59006125e+08]\n",
      " [2.59006125e+08 4.70950218e-08]]\n",
      "Iteration: 24\n",
      "[[3.99279192e-09 4.11900128e-02]\n",
      " [4.11900128e-02 6.98816846e-18]]\n",
      "[[2.22747056e+00 2.29787935e+07]\n",
      " [2.29787935e+07 3.89851008e-09]]\n",
      "Iteration: 25\n",
      "[[8.46888441e-11 7.49497003e-02]\n",
      " [7.49497003e-02 7.33157587e-16]]\n",
      "[[2.83873020e-02 2.51227869e+07]\n",
      " [2.51227869e+07 2.45750973e-07]]\n",
      "Iteration: 26\n",
      "[[2.61571566e-12 3.48659971e-02]\n",
      " [3.48659971e-02 6.09743797e-14]]\n",
      "[[1.06362833e-03 1.41775587e+07]\n",
      " [1.41775587e+07 2.47940090e-05]]\n",
      "Iteration: 27\n",
      "[[1.54728500e-11 2.71467762e-02]\n",
      " [2.71467762e-02 1.56181426e-17]]\n",
      "[[8.99391806e-03 1.57796321e+07]\n",
      " [1.57796321e+07 9.07837246e-09]]\n",
      "Iteration: 28\n",
      "[[7.82093960e-11 5.59532217e-02]\n",
      " [5.59532217e-02 2.30127033e-17]]\n",
      "[[7.45997889e-02 5.33708063e+07]\n",
      " [5.33708063e+07 2.19505953e-08]]\n",
      "Iteration: 29\n",
      "[[1.46986444e-09 7.13978033e-01]\n",
      " [7.13978033e-01 2.95220722e-17]]\n",
      "[[3.45865783e+00 1.68002276e+09]\n",
      " [1.68002276e+09 6.94667774e-08]]\n",
      "Iteration: 30\n",
      "[[3.95860495e-11 4.76203445e-03]\n",
      " [4.76203445e-03 4.49582933e-19]]\n",
      "[[2.65115365e-02 3.18922580e+06]\n",
      " [3.18922580e+06 3.01094313e-10]]\n",
      "Iteration: 31\n",
      "[[1.47711361e-10 7.29653140e-02]\n",
      " [7.29653140e-02 1.15464654e-17]]\n",
      "[[1.13387662e-01 5.60103588e+07]\n",
      " [5.60103588e+07 8.86341240e-09]]\n",
      "Iteration: 32\n",
      "[[6.27025110e-10 1.65207427e-01]\n",
      " [1.65207427e-01 1.57822161e-16]]\n",
      "[[3.23702393e-01 8.52885134e+07]\n",
      " [8.52885134e+07 8.14758617e-08]]\n",
      "Iteration: 33\n",
      "[[2.56591794e-12 3.93294447e-03]\n",
      " [3.93294447e-03 2.50276175e-19]]\n",
      "[[1.02857228e-02 1.57655770e+07]\n",
      " [1.57655770e+07 1.00325553e-09]]\n",
      "Iteration: 34\n",
      "[[3.00712104e-11 2.80220404e-02]\n",
      " [2.80220404e-02 6.60586079e-18]]\n",
      "[[2.44980073e-02 2.28286171e+07]\n",
      " [2.28286171e+07 5.38157339e-09]]\n",
      "Iteration: 35\n",
      "[[3.17636601e-12 3.88093472e-03]\n",
      " [3.88093472e-03 2.78974181e-19]]\n",
      "[[1.28834291e-02 1.57411794e+07]\n",
      " [1.57411794e+07 1.13152705e-09]]\n",
      "Iteration: 36\n",
      "[[5.74001306e-13 9.18662963e-03]\n",
      " [9.18662963e-03 1.03877413e-15]]\n",
      "[[9.91511310e-04 1.58686872e+07]\n",
      " [1.58686872e+07 1.79434487e-06]]\n",
      "Iteration: 37\n",
      "[[3.72129783e-12 1.05923258e-02]\n",
      " [1.05923258e-02 5.05938587e-18]]\n",
      "[[3.72808730e-03 1.06116514e+07]\n",
      " [1.06116514e+07 5.06861667e-09]]\n",
      "Iteration: 38\n",
      "[[3.90393328e-11 9.74970083e-02]\n",
      " [9.74970083e-02 1.37515777e-17]]\n",
      "[[7.83084489e-02 1.95567879e+08]\n",
      " [1.95567879e+08 2.75840963e-08]]\n",
      "Iteration: 39\n",
      "[[1.47743415e-10 1.39832145e+00]\n",
      " [1.39832145e+00 6.52683799e-16]]\n",
      "[[3.52078588e-01 3.33225708e+09]\n",
      " [3.33225708e+09 1.55537213e-06]]\n",
      "Iteration: 40\n",
      "[[2.68490453e-11 1.06467587e-02]\n",
      " [1.06467587e-02 1.71762877e-18]]\n",
      "[[1.87244275e-02 7.42501118e+06]\n",
      " [7.42501118e+06 1.19786812e-09]]\n",
      "Iteration: 41\n",
      "[[9.24335185e-12 3.54344902e-02]\n",
      " [3.54344902e-02 4.36363501e-17]]\n",
      "[[8.42192860e-03 3.22855552e+07]\n",
      " [3.22855552e+07 3.97585455e-08]]\n",
      "Iteration: 42\n",
      "[[1.56957820e-10 4.89130113e-02]\n",
      " [4.89130113e-02 4.73871213e-17]]\n",
      "[[1.71109154e-01 5.33230137e+07]\n",
      " [5.33230137e+07 5.16595493e-08]]\n",
      "Iteration: 43\n",
      "[[4.19370454e-11 3.42326303e-02]\n",
      " [3.42326303e-02 3.73385975e-17]]\n",
      "[[2.92923831e-02 2.39109673e+07]\n",
      " [2.39109673e+07 2.60804377e-08]]\n",
      "Iteration: 44\n",
      "[[3.02582780e-11 2.49723850e-02]\n",
      " [2.49723850e-02 1.64519084e-17]]\n",
      "[[2.63641692e-02 2.17585477e+07]\n",
      " [2.17585477e+07 1.43346193e-08]]\n",
      "Iteration: 45\n",
      "[[1.15642408e-10 8.06165848e-03]\n",
      " [8.06165848e-03 1.55936712e-18]]\n",
      "[[1.16533061e-01 8.12374759e+06]\n",
      " [8.12374759e+06 1.57137702e-09]]\n"
     ]
    }
   ],
   "source": [
    "for i in range(46):\n",
    "    print (f'Iteration: {i}')\n",
    "    print (Gauss_joint_pdf(x_train.iloc[0:2], mu_value[i], cov[i]))"
   ]
  },
  {
   "cell_type": "code",
   "execution_count": 25,
   "metadata": {
    "scrolled": true
   },
   "outputs": [
    {
     "name": "stdout",
     "output_type": "stream",
     "text": [
      "Shape: 62\n",
      "Determinant: 4.054820301135654e-88\n",
      "First:  8.962687924325694e+18\n",
      "mean Value:         846       845       844       843       842       841       840  \\\n",
      "0 -0.230817  0.135433  0.740083  0.648154  0.153355 -0.249073 -0.391475   \n",
      "\n",
      "        839       838       837  ...      794       793       792       791  \\\n",
      "0 -0.451096 -0.444283 -0.141786  ... -0.40636 -0.432996 -0.415292 -0.361874   \n",
      "\n",
      "        790       789       788       787      786       785  \n",
      "0 -0.289488 -0.218008 -0.124304  0.795078  0.46415 -0.050858  \n",
      "\n",
      "[1 rows x 62 columns]\n",
      "Inverse [[ 2.65844036e+01 -1.52062521e+01 -3.14163418e-01 ... -1.69436471e-03\n",
      "   1.77263789e-01  2.70701882e+00]\n",
      " [-1.52062521e+01  3.48758362e+01 -1.55339677e+01 ...  5.00184525e-02\n",
      "  -4.95509937e-02  6.63783772e-02]\n",
      " [-3.14163418e-01 -1.55339677e+01  3.51583332e+01 ... -9.99322089e-03\n",
      "   1.29707211e-02 -1.02166420e-01]\n",
      " ...\n",
      " [-1.69436471e-03  5.00184525e-02 -9.99322089e-03 ...  3.18529316e+01\n",
      "  -1.29931561e+01  5.81607749e-01]\n",
      " [ 1.77263789e-01 -4.95509937e-02  1.29707211e-02 ... -1.29931561e+01\n",
      "   3.18521406e+01 -1.27572532e+01]\n",
      " [ 2.70701882e+00  6.63783772e-02 -1.02166420e-01 ...  5.81607749e-01\n",
      "  -1.27572532e+01  2.58813024e+01]]\n",
      "Value             0\n",
      "0   -2.573609\n",
      "1   -7.734652\n",
      "2    5.810571\n",
      "3    7.450531\n",
      "4    2.282253\n",
      "5   -2.716527\n",
      "6   -1.270550\n",
      "7   -0.481224\n",
      "8   -2.135153\n",
      "9    0.755607\n",
      "10   6.203794\n",
      "11  -1.257426\n",
      "12   6.871866\n",
      "13   0.000000\n",
      "14   0.000000\n",
      "15   0.000000\n",
      "16   0.000000\n",
      "17   0.595140\n",
      "18   0.308781\n",
      "19   0.653622\n",
      "20   0.484983\n",
      "21   0.015741\n",
      "22   0.002120\n",
      "23  -0.925182\n",
      "24  -1.439864\n",
      "25   1.552866\n",
      "26  -8.442366\n",
      "27   6.519491\n",
      "28   1.177224\n",
      "29  -6.026805\n",
      "..        ...\n",
      "32  -7.764081\n",
      "33   9.640488\n",
      "34   8.251634\n",
      "35  -8.402236\n",
      "36  -5.147918\n",
      "37   1.645727\n",
      "38   0.630861\n",
      "39   0.578211\n",
      "40   1.546559\n",
      "41  -2.264792\n",
      "42  -7.027713\n",
      "43   2.501494\n",
      "44   2.399653\n",
      "45   0.000000\n",
      "46   0.000000\n",
      "47   0.000000\n",
      "48   0.000000\n",
      "49  -0.855606\n",
      "50  -2.234456\n",
      "51  -1.782808\n",
      "52  -1.314501\n",
      "53  -0.993562\n",
      "54  -0.593459\n",
      "55  -0.574373\n",
      "56   0.099703\n",
      "57   2.708269\n",
      "58  -8.482381\n",
      "59  11.789516\n",
      "60   0.362496\n",
      "61  -2.617613\n",
      "\n",
      "[62 rows x 1 columns]\n",
      "[[3.93680529e-13]]\n"
     ]
    },
    {
     "data": {
      "text/plain": [
       "array([[3528435.72672038]])"
      ]
     },
     "execution_count": 25,
     "metadata": {},
     "output_type": "execute_result"
    }
   ],
   "source": [
    "Gauss_joint_pdf(x_train[0:1], mu_value[0], cov[0])"
   ]
  },
  {
   "cell_type": "code",
   "execution_count": 26,
   "metadata": {},
   "outputs": [
    {
     "data": {
      "text/plain": [
       "62"
      ]
     },
     "execution_count": 26,
     "metadata": {},
     "output_type": "execute_result"
    }
   ],
   "source": [
    "len(column_names)"
   ]
  },
  {
   "cell_type": "code",
   "execution_count": 27,
   "metadata": {},
   "outputs": [],
   "source": [
    "from sklearn.naive_bayes import GaussianNB"
   ]
  },
  {
   "cell_type": "code",
   "execution_count": 28,
   "metadata": {},
   "outputs": [],
   "source": [
    "gb = GaussianNB()"
   ]
  },
  {
   "cell_type": "code",
   "execution_count": 29,
   "metadata": {},
   "outputs": [
    {
     "data": {
      "text/plain": [
       "GaussianNB(priors=None, var_smoothing=1e-09)"
      ]
     },
     "execution_count": 29,
     "metadata": {},
     "output_type": "execute_result"
    }
   ],
   "source": [
    "gb.fit(x_train, y_train)"
   ]
  },
  {
   "cell_type": "code",
   "execution_count": 30,
   "metadata": {},
   "outputs": [],
   "source": [
    "pred = gb.predict(x_test)"
   ]
  },
  {
   "cell_type": "code",
   "execution_count": 31,
   "metadata": {},
   "outputs": [
    {
     "data": {
      "text/plain": [
       "3933"
      ]
     },
     "execution_count": 31,
     "metadata": {},
     "output_type": "execute_result"
    }
   ],
   "source": [
    "np.count_nonzero(pred == y_test)"
   ]
  },
  {
   "cell_type": "code",
   "execution_count": 32,
   "metadata": {},
   "outputs": [
    {
     "data": {
      "text/plain": [
       "0.16659606912910876"
      ]
     },
     "execution_count": 32,
     "metadata": {},
     "output_type": "execute_result"
    }
   ],
   "source": [
    "gb.score(x_test, y_test)"
   ]
  },
  {
   "cell_type": "code",
   "execution_count": 33,
   "metadata": {},
   "outputs": [
    {
     "data": {
      "text/plain": [
       "(23608,)"
      ]
     },
     "execution_count": 33,
     "metadata": {},
     "output_type": "execute_result"
    }
   ],
   "source": [
    "y_test.shape"
   ]
  },
  {
   "cell_type": "code",
   "execution_count": 39,
   "metadata": {},
   "outputs": [
    {
     "data": {
      "text/plain": [
       "(1, 63)"
      ]
     },
     "execution_count": 39,
     "metadata": {},
     "output_type": "execute_result"
    }
   ],
   "source": [
    "row = x_train.iloc[0:1]\n",
    "mean = mu_value[0]\n",
    "row.shape"
   ]
  },
  {
   "cell_type": "code",
   "execution_count": 53,
   "metadata": {},
   "outputs": [
    {
     "data": {
      "text/plain": [
       "1.7259282455192017e-70"
      ]
     },
     "execution_count": 53,
     "metadata": {},
     "output_type": "execute_result"
    }
   ],
   "source": [
    "det = np.linalg.det(cov[1])\n",
    "det"
   ]
  },
  {
   "cell_type": "code",
   "execution_count": 54,
   "metadata": {},
   "outputs": [
    {
     "data": {
      "text/plain": [
       "1.8246401264283692e-10"
      ]
     },
     "execution_count": 54,
     "metadata": {},
     "output_type": "execute_result"
    }
   ],
   "source": [
    "sqrt = np.sqrt( ((2 * np.pi) ** row.shape[1]) * det)\n",
    "sqrt"
   ]
  },
  {
   "cell_type": "code",
   "execution_count": 55,
   "metadata": {},
   "outputs": [
    {
     "data": {
      "text/plain": [
       "3.14919793211045e-80"
      ]
     },
     "execution_count": 55,
     "metadata": {},
     "output_type": "execute_result"
    }
   ],
   "source": [
    "sqrt * det"
   ]
  },
  {
   "cell_type": "code",
   "execution_count": 56,
   "metadata": {},
   "outputs": [
    {
     "data": {
      "text/plain": [
       "3.175411712943192e+79"
      ]
     },
     "execution_count": 56,
     "metadata": {},
     "output_type": "execute_result"
    }
   ],
   "source": [
    "first = 1 / (sqrt * det)\n",
    "first"
   ]
  },
  {
   "cell_type": "code",
   "execution_count": 57,
   "metadata": {},
   "outputs": [
    {
     "data": {
      "text/html": [
       "<div>\n",
       "<style scoped>\n",
       "    .dataframe tbody tr th:only-of-type {\n",
       "        vertical-align: middle;\n",
       "    }\n",
       "\n",
       "    .dataframe tbody tr th {\n",
       "        vertical-align: top;\n",
       "    }\n",
       "\n",
       "    .dataframe thead th {\n",
       "        text-align: right;\n",
       "    }\n",
       "</style>\n",
       "<table border=\"1\" class=\"dataframe\">\n",
       "  <thead>\n",
       "    <tr style=\"text-align: right;\">\n",
       "      <th></th>\n",
       "      <th>847</th>\n",
       "      <th>846</th>\n",
       "      <th>845</th>\n",
       "      <th>844</th>\n",
       "      <th>843</th>\n",
       "      <th>842</th>\n",
       "      <th>841</th>\n",
       "      <th>840</th>\n",
       "      <th>839</th>\n",
       "      <th>838</th>\n",
       "      <th>...</th>\n",
       "      <th>794</th>\n",
       "      <th>793</th>\n",
       "      <th>792</th>\n",
       "      <th>791</th>\n",
       "      <th>790</th>\n",
       "      <th>789</th>\n",
       "      <th>788</th>\n",
       "      <th>787</th>\n",
       "      <th>786</th>\n",
       "      <th>785</th>\n",
       "    </tr>\n",
       "  </thead>\n",
       "  <tbody>\n",
       "    <tr>\n",
       "      <th>0</th>\n",
       "      <td>-0.357387</td>\n",
       "      <td>-0.344079</td>\n",
       "      <td>0.204672</td>\n",
       "      <td>1.137326</td>\n",
       "      <td>1.012884</td>\n",
       "      <td>0.242943</td>\n",
       "      <td>-0.397616</td>\n",
       "      <td>-0.626733</td>\n",
       "      <td>-0.721632</td>\n",
       "      <td>-0.705528</td>\n",
       "      <td>...</td>\n",
       "      <td>-0.490176</td>\n",
       "      <td>-0.536103</td>\n",
       "      <td>-0.532272</td>\n",
       "      <td>-0.481893</td>\n",
       "      <td>-0.39944</td>\n",
       "      <td>-0.309408</td>\n",
       "      <td>-0.179852</td>\n",
       "      <td>1.162652</td>\n",
       "      <td>0.682488</td>\n",
       "      <td>-0.074754</td>\n",
       "    </tr>\n",
       "  </tbody>\n",
       "</table>\n",
       "<p>1 rows × 63 columns</p>\n",
       "</div>"
      ],
      "text/plain": [
       "        847       846       845       844       843       842       841  \\\n",
       "0 -0.357387 -0.344079  0.204672  1.137326  1.012884  0.242943 -0.397616   \n",
       "\n",
       "        840       839       838  ...       794       793       792       791  \\\n",
       "0 -0.626733 -0.721632 -0.705528  ... -0.490176 -0.536103 -0.532272 -0.481893   \n",
       "\n",
       "       790       789       788       787       786       785  \n",
       "0 -0.39944 -0.309408 -0.179852  1.162652  0.682488 -0.074754  \n",
       "\n",
       "[1 rows x 63 columns]"
      ]
     },
     "execution_count": 57,
     "metadata": {},
     "output_type": "execute_result"
    }
   ],
   "source": [
    "zero = row - mean\n",
    "zero"
   ]
  },
  {
   "cell_type": "code",
   "execution_count": 58,
   "metadata": {
    "scrolled": true
   },
   "outputs": [
    {
     "data": {
      "text/plain": [
       "array([[ 1.25205797e+01, -6.97314244e+00, -8.50665764e-02, ...,\n",
       "         1.16088916e-01,  5.16547767e-01,  1.52934386e+00],\n",
       "       [-6.97314244e+00,  1.62032916e+01, -7.10500175e+00, ...,\n",
       "        -6.56958894e-02, -2.08930358e-01,  4.20010855e-01],\n",
       "       [-8.50665764e-02, -7.10500175e+00,  1.61295830e+01, ...,\n",
       "         2.30026640e-02, -2.81245172e-02,  8.18024610e-03],\n",
       "       ...,\n",
       "       [ 1.16088916e-01, -6.56958894e-02,  2.30026640e-02, ...,\n",
       "         1.50418860e+01, -6.16133738e+00,  3.16606237e-01],\n",
       "       [ 5.16547767e-01, -2.08930358e-01, -2.81245172e-02, ...,\n",
       "        -6.16133738e+00,  1.49891349e+01, -5.97285488e+00],\n",
       "       [ 1.52934386e+00,  4.20010855e-01,  8.18024610e-03, ...,\n",
       "         3.16606237e-01, -5.97285488e+00,  1.23188077e+01]])"
      ]
     },
     "execution_count": 58,
     "metadata": {},
     "output_type": "execute_result"
    }
   ],
   "source": [
    "inv = np.linalg.inv(cov[0])\n",
    "inv"
   ]
  },
  {
   "cell_type": "code",
   "execution_count": 59,
   "metadata": {
    "scrolled": true
   },
   "outputs": [
    {
     "data": {
      "text/html": [
       "<div>\n",
       "<style scoped>\n",
       "    .dataframe tbody tr th:only-of-type {\n",
       "        vertical-align: middle;\n",
       "    }\n",
       "\n",
       "    .dataframe tbody tr th {\n",
       "        vertical-align: top;\n",
       "    }\n",
       "\n",
       "    .dataframe thead th {\n",
       "        text-align: right;\n",
       "    }\n",
       "</style>\n",
       "<table border=\"1\" class=\"dataframe\">\n",
       "  <thead>\n",
       "    <tr style=\"text-align: right;\">\n",
       "      <th></th>\n",
       "      <th>0</th>\n",
       "    </tr>\n",
       "  </thead>\n",
       "  <tbody>\n",
       "    <tr>\n",
       "      <th>0</th>\n",
       "      <td>0.611939</td>\n",
       "    </tr>\n",
       "    <tr>\n",
       "      <th>1</th>\n",
       "      <td>-2.009769</td>\n",
       "    </tr>\n",
       "    <tr>\n",
       "      <th>2</th>\n",
       "      <td>-5.416852</td>\n",
       "    </tr>\n",
       "    <tr>\n",
       "      <th>3</th>\n",
       "      <td>3.893783</td>\n",
       "    </tr>\n",
       "    <tr>\n",
       "      <th>4</th>\n",
       "      <td>4.984099</td>\n",
       "    </tr>\n",
       "    <tr>\n",
       "      <th>5</th>\n",
       "      <td>1.513831</td>\n",
       "    </tr>\n",
       "    <tr>\n",
       "      <th>6</th>\n",
       "      <td>-1.895965</td>\n",
       "    </tr>\n",
       "    <tr>\n",
       "      <th>7</th>\n",
       "      <td>-0.789251</td>\n",
       "    </tr>\n",
       "    <tr>\n",
       "      <th>8</th>\n",
       "      <td>-0.246657</td>\n",
       "    </tr>\n",
       "    <tr>\n",
       "      <th>9</th>\n",
       "      <td>-1.476746</td>\n",
       "    </tr>\n",
       "    <tr>\n",
       "      <th>10</th>\n",
       "      <td>0.590198</td>\n",
       "    </tr>\n",
       "    <tr>\n",
       "      <th>11</th>\n",
       "      <td>4.272425</td>\n",
       "    </tr>\n",
       "    <tr>\n",
       "      <th>12</th>\n",
       "      <td>-0.724185</td>\n",
       "    </tr>\n",
       "    <tr>\n",
       "      <th>13</th>\n",
       "      <td>4.891478</td>\n",
       "    </tr>\n",
       "    <tr>\n",
       "      <th>14</th>\n",
       "      <td>0.000000</td>\n",
       "    </tr>\n",
       "    <tr>\n",
       "      <th>15</th>\n",
       "      <td>0.000000</td>\n",
       "    </tr>\n",
       "    <tr>\n",
       "      <th>16</th>\n",
       "      <td>0.000000</td>\n",
       "    </tr>\n",
       "    <tr>\n",
       "      <th>17</th>\n",
       "      <td>0.000000</td>\n",
       "    </tr>\n",
       "    <tr>\n",
       "      <th>18</th>\n",
       "      <td>0.308667</td>\n",
       "    </tr>\n",
       "    <tr>\n",
       "      <th>19</th>\n",
       "      <td>0.091689</td>\n",
       "    </tr>\n",
       "    <tr>\n",
       "      <th>20</th>\n",
       "      <td>0.310453</td>\n",
       "    </tr>\n",
       "    <tr>\n",
       "      <th>21</th>\n",
       "      <td>0.269242</td>\n",
       "    </tr>\n",
       "    <tr>\n",
       "      <th>22</th>\n",
       "      <td>-0.013268</td>\n",
       "    </tr>\n",
       "    <tr>\n",
       "      <th>23</th>\n",
       "      <td>-0.036710</td>\n",
       "    </tr>\n",
       "    <tr>\n",
       "      <th>24</th>\n",
       "      <td>-0.672520</td>\n",
       "    </tr>\n",
       "    <tr>\n",
       "      <th>25</th>\n",
       "      <td>-1.015387</td>\n",
       "    </tr>\n",
       "    <tr>\n",
       "      <th>26</th>\n",
       "      <td>1.073072</td>\n",
       "    </tr>\n",
       "    <tr>\n",
       "      <th>27</th>\n",
       "      <td>-5.837658</td>\n",
       "    </tr>\n",
       "    <tr>\n",
       "      <th>28</th>\n",
       "      <td>4.440439</td>\n",
       "    </tr>\n",
       "    <tr>\n",
       "      <th>29</th>\n",
       "      <td>0.778234</td>\n",
       "    </tr>\n",
       "    <tr>\n",
       "      <th>...</th>\n",
       "      <td>...</td>\n",
       "    </tr>\n",
       "    <tr>\n",
       "      <th>33</th>\n",
       "      <td>-5.254471</td>\n",
       "    </tr>\n",
       "    <tr>\n",
       "      <th>34</th>\n",
       "      <td>6.722239</td>\n",
       "    </tr>\n",
       "    <tr>\n",
       "      <th>35</th>\n",
       "      <td>5.680982</td>\n",
       "    </tr>\n",
       "    <tr>\n",
       "      <th>36</th>\n",
       "      <td>-5.857271</td>\n",
       "    </tr>\n",
       "    <tr>\n",
       "      <th>37</th>\n",
       "      <td>-3.490680</td>\n",
       "    </tr>\n",
       "    <tr>\n",
       "      <th>38</th>\n",
       "      <td>1.227823</td>\n",
       "    </tr>\n",
       "    <tr>\n",
       "      <th>39</th>\n",
       "      <td>0.417272</td>\n",
       "    </tr>\n",
       "    <tr>\n",
       "      <th>40</th>\n",
       "      <td>0.348831</td>\n",
       "    </tr>\n",
       "    <tr>\n",
       "      <th>41</th>\n",
       "      <td>1.105671</td>\n",
       "    </tr>\n",
       "    <tr>\n",
       "      <th>42</th>\n",
       "      <td>-1.405684</td>\n",
       "    </tr>\n",
       "    <tr>\n",
       "      <th>43</th>\n",
       "      <td>-4.853185</td>\n",
       "    </tr>\n",
       "    <tr>\n",
       "      <th>44</th>\n",
       "      <td>1.825448</td>\n",
       "    </tr>\n",
       "    <tr>\n",
       "      <th>45</th>\n",
       "      <td>1.953508</td>\n",
       "    </tr>\n",
       "    <tr>\n",
       "      <th>46</th>\n",
       "      <td>0.000000</td>\n",
       "    </tr>\n",
       "    <tr>\n",
       "      <th>47</th>\n",
       "      <td>0.000000</td>\n",
       "    </tr>\n",
       "    <tr>\n",
       "      <th>48</th>\n",
       "      <td>0.000000</td>\n",
       "    </tr>\n",
       "    <tr>\n",
       "      <th>49</th>\n",
       "      <td>0.000000</td>\n",
       "    </tr>\n",
       "    <tr>\n",
       "      <th>50</th>\n",
       "      <td>-0.638005</td>\n",
       "    </tr>\n",
       "    <tr>\n",
       "      <th>51</th>\n",
       "      <td>-1.556280</td>\n",
       "    </tr>\n",
       "    <tr>\n",
       "      <th>52</th>\n",
       "      <td>-1.332079</td>\n",
       "    </tr>\n",
       "    <tr>\n",
       "      <th>53</th>\n",
       "      <td>-0.992764</td>\n",
       "    </tr>\n",
       "    <tr>\n",
       "      <th>54</th>\n",
       "      <td>-0.745404</td>\n",
       "    </tr>\n",
       "    <tr>\n",
       "      <th>55</th>\n",
       "      <td>-0.455375</td>\n",
       "    </tr>\n",
       "    <tr>\n",
       "      <th>56</th>\n",
       "      <td>-0.425099</td>\n",
       "    </tr>\n",
       "    <tr>\n",
       "      <th>57</th>\n",
       "      <td>0.066783</td>\n",
       "    </tr>\n",
       "    <tr>\n",
       "      <th>58</th>\n",
       "      <td>1.887852</td>\n",
       "    </tr>\n",
       "    <tr>\n",
       "      <th>59</th>\n",
       "      <td>-5.865092</td>\n",
       "    </tr>\n",
       "    <tr>\n",
       "      <th>60</th>\n",
       "      <td>8.122855</td>\n",
       "    </tr>\n",
       "    <tr>\n",
       "      <th>61</th>\n",
       "      <td>0.269618</td>\n",
       "    </tr>\n",
       "    <tr>\n",
       "      <th>62</th>\n",
       "      <td>-1.713540</td>\n",
       "    </tr>\n",
       "  </tbody>\n",
       "</table>\n",
       "<p>63 rows × 1 columns</p>\n",
       "</div>"
      ],
      "text/plain": [
       "           0\n",
       "0   0.611939\n",
       "1  -2.009769\n",
       "2  -5.416852\n",
       "3   3.893783\n",
       "4   4.984099\n",
       "5   1.513831\n",
       "6  -1.895965\n",
       "7  -0.789251\n",
       "8  -0.246657\n",
       "9  -1.476746\n",
       "10  0.590198\n",
       "11  4.272425\n",
       "12 -0.724185\n",
       "13  4.891478\n",
       "14  0.000000\n",
       "15  0.000000\n",
       "16  0.000000\n",
       "17  0.000000\n",
       "18  0.308667\n",
       "19  0.091689\n",
       "20  0.310453\n",
       "21  0.269242\n",
       "22 -0.013268\n",
       "23 -0.036710\n",
       "24 -0.672520\n",
       "25 -1.015387\n",
       "26  1.073072\n",
       "27 -5.837658\n",
       "28  4.440439\n",
       "29  0.778234\n",
       "..       ...\n",
       "33 -5.254471\n",
       "34  6.722239\n",
       "35  5.680982\n",
       "36 -5.857271\n",
       "37 -3.490680\n",
       "38  1.227823\n",
       "39  0.417272\n",
       "40  0.348831\n",
       "41  1.105671\n",
       "42 -1.405684\n",
       "43 -4.853185\n",
       "44  1.825448\n",
       "45  1.953508\n",
       "46  0.000000\n",
       "47  0.000000\n",
       "48  0.000000\n",
       "49  0.000000\n",
       "50 -0.638005\n",
       "51 -1.556280\n",
       "52 -1.332079\n",
       "53 -0.992764\n",
       "54 -0.745404\n",
       "55 -0.455375\n",
       "56 -0.425099\n",
       "57  0.066783\n",
       "58  1.887852\n",
       "59 -5.865092\n",
       "60  8.122855\n",
       "61  0.269618\n",
       "62 -1.713540\n",
       "\n",
       "[63 rows x 1 columns]"
      ]
     },
     "execution_count": 59,
     "metadata": {},
     "output_type": "execute_result"
    }
   ],
   "source": [
    "val1 = inv @ zero.T\n",
    "val1"
   ]
  },
  {
   "cell_type": "code",
   "execution_count": 60,
   "metadata": {},
   "outputs": [
    {
     "data": {
      "text/plain": [
       "array([[57.45556046]])"
      ]
     },
     "execution_count": 60,
     "metadata": {},
     "output_type": "execute_result"
    }
   ],
   "source": [
    "val2 = np.dot(zero,val1)\n",
    "val2"
   ]
  },
  {
   "cell_type": "code",
   "execution_count": 61,
   "metadata": {},
   "outputs": [
    {
     "data": {
      "text/plain": [
       "array([[3.33951631e-13]])"
      ]
     },
     "execution_count": 61,
     "metadata": {},
     "output_type": "execute_result"
    }
   ],
   "source": [
    "exp = np.exp( - 0.5 * val2)\n",
    "exp"
   ]
  },
  {
   "cell_type": "code",
   "execution_count": 62,
   "metadata": {},
   "outputs": [
    {
     "data": {
      "text/plain": [
       "array([[0.00183023]])"
      ]
     },
     "execution_count": 62,
     "metadata": {},
     "output_type": "execute_result"
    }
   ],
   "source": [
    "exp/ sqrt"
   ]
  },
  {
   "cell_type": "code",
   "execution_count": null,
   "metadata": {},
   "outputs": [],
   "source": []
  }
 ],
 "metadata": {
  "kernelspec": {
   "display_name": "Python 3",
   "language": "python",
   "name": "python3"
  },
  "language_info": {
   "codemirror_mode": {
    "name": "ipython",
    "version": 3
   },
   "file_extension": ".py",
   "mimetype": "text/x-python",
   "name": "python",
   "nbconvert_exporter": "python",
   "pygments_lexer": "ipython3",
   "version": "3.7.3"
  }
 },
 "nbformat": 4,
 "nbformat_minor": 2
}
