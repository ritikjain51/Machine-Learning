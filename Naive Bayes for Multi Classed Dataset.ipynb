{
 "cells": [
  {
   "cell_type": "code",
   "execution_count": 1,
   "metadata": {},
   "outputs": [],
   "source": [
    "import pandas as pd\n",
    "import numpy as np\n",
    "import matplotlib.pyplot as plt\n",
    "%matplotlib inline"
   ]
  },
  {
   "cell_type": "markdown",
   "metadata": {},
   "source": [
    "Dataset: https://archive.ics.uci.edu/ml/datasets/Image+Segmentation<br>\n",
    "Training data link: https://archive.ics.uci.edu/ml/machine-learning-databases/image/segmentation.data<br>\n",
    "Testing data link: https://archive.ics.uci.edu/ml/machine-learning-databases/image/segmentation.test"
   ]
  },
  {
   "cell_type": "code",
   "execution_count": 2,
   "metadata": {},
   "outputs": [],
   "source": [
    "train_data = pd.read_csv('.//..//Dataset//segmentation_train.csv', sep = ',')\n",
    "test_data = pd.read_csv('.//..//Dataset//segmentation_test.csv', sep = ',')"
   ]
  },
  {
   "cell_type": "code",
   "execution_count": 3,
   "metadata": {
    "scrolled": true
   },
   "outputs": [
    {
     "data": {
      "text/html": [
       "<div>\n",
       "<style scoped>\n",
       "    .dataframe tbody tr th:only-of-type {\n",
       "        vertical-align: middle;\n",
       "    }\n",
       "\n",
       "    .dataframe tbody tr th {\n",
       "        vertical-align: top;\n",
       "    }\n",
       "\n",
       "    .dataframe thead th {\n",
       "        text-align: right;\n",
       "    }\n",
       "</style>\n",
       "<table border=\"1\" class=\"dataframe\">\n",
       "  <thead>\n",
       "    <tr style=\"text-align: right;\">\n",
       "      <th></th>\n",
       "      <th>CLASS</th>\n",
       "      <th>REGION-CENTROID-COL</th>\n",
       "      <th>REGION-CENTROID-ROW</th>\n",
       "      <th>REGION-PIXEL-COUNT</th>\n",
       "      <th>SHORT-LINE-DENSITY-5</th>\n",
       "      <th>SHORT-LINE-DENSITY-2</th>\n",
       "      <th>VEDGE-MEAN</th>\n",
       "      <th>VEDGE-SD</th>\n",
       "      <th>HEDGE-MEAN</th>\n",
       "      <th>HEDGE-SD</th>\n",
       "      <th>INTENSITY-MEAN</th>\n",
       "      <th>RAWRED-MEAN</th>\n",
       "      <th>RAWBLUE-MEAN</th>\n",
       "      <th>RAWGREEN-MEAN</th>\n",
       "      <th>EXRED-MEAN</th>\n",
       "      <th>EXBLUE-MEAN</th>\n",
       "      <th>EXGREEN-MEAN</th>\n",
       "      <th>VALUE-MEAN</th>\n",
       "      <th>SATURATION-MEAN</th>\n",
       "      <th>HUE-MEAN</th>\n",
       "    </tr>\n",
       "  </thead>\n",
       "  <tbody>\n",
       "    <tr>\n",
       "      <th>0</th>\n",
       "      <td>BRICKFACE</td>\n",
       "      <td>140</td>\n",
       "      <td>125</td>\n",
       "      <td>9</td>\n",
       "      <td>0.0</td>\n",
       "      <td>0.0</td>\n",
       "      <td>0.277778</td>\n",
       "      <td>0.062963</td>\n",
       "      <td>0.666667</td>\n",
       "      <td>0.311111</td>\n",
       "      <td>6.185185</td>\n",
       "      <td>7.333334</td>\n",
       "      <td>7.666666</td>\n",
       "      <td>3.555556</td>\n",
       "      <td>3.444444</td>\n",
       "      <td>4.444445</td>\n",
       "      <td>-7.888889</td>\n",
       "      <td>7.777778</td>\n",
       "      <td>0.545635</td>\n",
       "      <td>-1.121818</td>\n",
       "    </tr>\n",
       "    <tr>\n",
       "      <th>1</th>\n",
       "      <td>BRICKFACE</td>\n",
       "      <td>188</td>\n",
       "      <td>133</td>\n",
       "      <td>9</td>\n",
       "      <td>0.0</td>\n",
       "      <td>0.0</td>\n",
       "      <td>0.333333</td>\n",
       "      <td>0.266667</td>\n",
       "      <td>0.500000</td>\n",
       "      <td>0.077778</td>\n",
       "      <td>6.666666</td>\n",
       "      <td>8.333334</td>\n",
       "      <td>7.777778</td>\n",
       "      <td>3.888889</td>\n",
       "      <td>5.000000</td>\n",
       "      <td>3.333333</td>\n",
       "      <td>-8.333333</td>\n",
       "      <td>8.444445</td>\n",
       "      <td>0.538580</td>\n",
       "      <td>-0.924817</td>\n",
       "    </tr>\n",
       "    <tr>\n",
       "      <th>2</th>\n",
       "      <td>BRICKFACE</td>\n",
       "      <td>105</td>\n",
       "      <td>139</td>\n",
       "      <td>9</td>\n",
       "      <td>0.0</td>\n",
       "      <td>0.0</td>\n",
       "      <td>0.277778</td>\n",
       "      <td>0.107407</td>\n",
       "      <td>0.833333</td>\n",
       "      <td>0.522222</td>\n",
       "      <td>6.111111</td>\n",
       "      <td>7.555555</td>\n",
       "      <td>7.222222</td>\n",
       "      <td>3.555556</td>\n",
       "      <td>4.333334</td>\n",
       "      <td>3.333333</td>\n",
       "      <td>-7.666666</td>\n",
       "      <td>7.555555</td>\n",
       "      <td>0.532628</td>\n",
       "      <td>-0.965946</td>\n",
       "    </tr>\n",
       "    <tr>\n",
       "      <th>3</th>\n",
       "      <td>BRICKFACE</td>\n",
       "      <td>34</td>\n",
       "      <td>137</td>\n",
       "      <td>9</td>\n",
       "      <td>0.0</td>\n",
       "      <td>0.0</td>\n",
       "      <td>0.500000</td>\n",
       "      <td>0.166667</td>\n",
       "      <td>1.111111</td>\n",
       "      <td>0.474074</td>\n",
       "      <td>5.851852</td>\n",
       "      <td>7.777778</td>\n",
       "      <td>6.444445</td>\n",
       "      <td>3.333333</td>\n",
       "      <td>5.777778</td>\n",
       "      <td>1.777778</td>\n",
       "      <td>-7.555555</td>\n",
       "      <td>7.777778</td>\n",
       "      <td>0.573633</td>\n",
       "      <td>-0.744272</td>\n",
       "    </tr>\n",
       "    <tr>\n",
       "      <th>4</th>\n",
       "      <td>BRICKFACE</td>\n",
       "      <td>39</td>\n",
       "      <td>111</td>\n",
       "      <td>9</td>\n",
       "      <td>0.0</td>\n",
       "      <td>0.0</td>\n",
       "      <td>0.722222</td>\n",
       "      <td>0.374074</td>\n",
       "      <td>0.888889</td>\n",
       "      <td>0.429629</td>\n",
       "      <td>6.037037</td>\n",
       "      <td>7.000000</td>\n",
       "      <td>7.666666</td>\n",
       "      <td>3.444444</td>\n",
       "      <td>2.888889</td>\n",
       "      <td>4.888889</td>\n",
       "      <td>-7.777778</td>\n",
       "      <td>7.888889</td>\n",
       "      <td>0.562919</td>\n",
       "      <td>-1.175773</td>\n",
       "    </tr>\n",
       "  </tbody>\n",
       "</table>\n",
       "</div>"
      ],
      "text/plain": [
       "       CLASS  REGION-CENTROID-COL  REGION-CENTROID-ROW  REGION-PIXEL-COUNT  \\\n",
       "0  BRICKFACE                  140                  125                   9   \n",
       "1  BRICKFACE                  188                  133                   9   \n",
       "2  BRICKFACE                  105                  139                   9   \n",
       "3  BRICKFACE                   34                  137                   9   \n",
       "4  BRICKFACE                   39                  111                   9   \n",
       "\n",
       "   SHORT-LINE-DENSITY-5  SHORT-LINE-DENSITY-2  VEDGE-MEAN  VEDGE-SD  \\\n",
       "0                   0.0                   0.0    0.277778  0.062963   \n",
       "1                   0.0                   0.0    0.333333  0.266667   \n",
       "2                   0.0                   0.0    0.277778  0.107407   \n",
       "3                   0.0                   0.0    0.500000  0.166667   \n",
       "4                   0.0                   0.0    0.722222  0.374074   \n",
       "\n",
       "   HEDGE-MEAN  HEDGE-SD  INTENSITY-MEAN  RAWRED-MEAN  RAWBLUE-MEAN  \\\n",
       "0    0.666667  0.311111        6.185185     7.333334      7.666666   \n",
       "1    0.500000  0.077778        6.666666     8.333334      7.777778   \n",
       "2    0.833333  0.522222        6.111111     7.555555      7.222222   \n",
       "3    1.111111  0.474074        5.851852     7.777778      6.444445   \n",
       "4    0.888889  0.429629        6.037037     7.000000      7.666666   \n",
       "\n",
       "   RAWGREEN-MEAN  EXRED-MEAN  EXBLUE-MEAN  EXGREEN-MEAN  VALUE-MEAN  \\\n",
       "0       3.555556    3.444444     4.444445     -7.888889    7.777778   \n",
       "1       3.888889    5.000000     3.333333     -8.333333    8.444445   \n",
       "2       3.555556    4.333334     3.333333     -7.666666    7.555555   \n",
       "3       3.333333    5.777778     1.777778     -7.555555    7.777778   \n",
       "4       3.444444    2.888889     4.888889     -7.777778    7.888889   \n",
       "\n",
       "   SATURATION-MEAN  HUE-MEAN  \n",
       "0         0.545635 -1.121818  \n",
       "1         0.538580 -0.924817  \n",
       "2         0.532628 -0.965946  \n",
       "3         0.573633 -0.744272  \n",
       "4         0.562919 -1.175773  "
      ]
     },
     "execution_count": 3,
     "metadata": {},
     "output_type": "execute_result"
    }
   ],
   "source": [
    "train_data.head()"
   ]
  },
  {
   "cell_type": "code",
   "execution_count": 4,
   "metadata": {},
   "outputs": [
    {
     "data": {
      "text/plain": [
       "Index(['CLASS', 'REGION-CENTROID-COL', 'REGION-CENTROID-ROW',\n",
       "       'REGION-PIXEL-COUNT', 'SHORT-LINE-DENSITY-5', 'SHORT-LINE-DENSITY-2',\n",
       "       'VEDGE-MEAN', 'VEDGE-SD', 'HEDGE-MEAN', 'HEDGE-SD', 'INTENSITY-MEAN',\n",
       "       'RAWRED-MEAN', 'RAWBLUE-MEAN', 'RAWGREEN-MEAN', 'EXRED-MEAN',\n",
       "       'EXBLUE-MEAN', 'EXGREEN-MEAN', 'VALUE-MEAN', 'SATURATION-MEAN',\n",
       "       'HUE-MEAN'],\n",
       "      dtype='object')"
      ]
     },
     "execution_count": 4,
     "metadata": {},
     "output_type": "execute_result"
    }
   ],
   "source": [
    "train_data.columns"
   ]
  },
  {
   "cell_type": "code",
   "execution_count": 69,
   "metadata": {},
   "outputs": [],
   "source": [
    "class NaiveBayesClassifier (object):\n",
    "    \n",
    "    def __init__(self, data, target):\n",
    "        \n",
    "        self.data = data\n",
    "        self.target = target\n",
    "        self.weights = {}\n",
    "        \n",
    "    def estimate_mean_std(self, a, total_sample_size = 1000, each_sample_size = 10):\n",
    "        \n",
    "        '''\n",
    "        Estimating natural paramter of normal distribution\n",
    "        '''\n",
    "        \n",
    "        ele_list = np.array(a)\n",
    "        random_sample = np.random.choice(ele_list, size = (total_sample_size, each_sample_size))\n",
    "        \n",
    "        ## Estimating the value of Mean\n",
    "        estimate_mean = np.mean(random_sample, axis = 1)\n",
    "        best_estimate_mean = np.mean(estimate_mean)\n",
    "        \n",
    "        ## Taking Best estimate of standard deviation\n",
    "        estimate_std = np.std(random_sample, axis = 1)\n",
    "        best_estimate_std = np.mean(estimate_std)\n",
    "        \n",
    "        return {'mu':best_estimate_mean, 'sigma' :best_estimate_std}\n",
    "    \n",
    "    def estimate_bino_pValue (self, a, unique_val, total_sample_size = 1000, each_sample_size = 10):\n",
    "        \n",
    "        '''\n",
    "        Estimating natural parameter of binomial distribution\n",
    "        '''\n",
    "        prob_dict = {}\n",
    "        for uni in unique_val:\n",
    "            if (uni in a):\n",
    "                random_sample = np.random.choice(np.array(a), size = (total_sample_size, each_sample_size))\n",
    "                val = []\n",
    "                for sample in random_sample:\n",
    "                    val.append(np.count_nonzero(uni == sample) / each_sample_size)\n",
    "                prob_dict[uni] = np.mean(val)\n",
    "            else:\n",
    "                prob_dict[uni] = self.laplash_smoothing(len(a), len(unique_val))\n",
    "        return prob_dict\n",
    "        \n",
    "    def normal_pdf(self, x, mu, sigma):\n",
    "        \n",
    "        '''\n",
    "        Proabability distribution function for Normal Distribution\n",
    "        '''\n",
    "        scale_parm = 1 / (np.sqrt(2 * np.pi) * sigma)\n",
    "        shift = np.e ** -(((x - mu) ** 2) / (2 * sigma ** 2))\n",
    "        return scale_parm * shift\n",
    "    \n",
    "    def calculate_class_prob(self):\n",
    "        '''\n",
    "        Calculating class probability for every class\n",
    "        '''\n",
    "        self.unique_classes = np.unique(self.data[self.target])\n",
    "        self.class_prob = {}\n",
    "        for class_val in self.unique_classes:\n",
    "            self.class_prob[class_val] = np.count_nonzero(self.data[self.target] == class_val) / self.data.shape[0]\n",
    "\n",
    "    def calculate_class_based_feature_prob(self, feature):\n",
    "        \n",
    "        '''\n",
    "        Calculating probability for particular feature on the basis of resultant classes\n",
    "        '''\n",
    "        val = {}\n",
    "        feature_unique = np.unique(feature)\n",
    "        for classes in self.unique_classes:\n",
    "            mask = self.data[self.target] == classes\n",
    "            feature_now = feature[mask]\n",
    "            val[classes] = self.estimate_bino_pValue(feature_now, feature_unique)\n",
    "        return val\n",
    "    \n",
    "    def calculate_class_based_normal_feature(self, feature):\n",
    "        val = {}\n",
    "        for classes in self.unique_classes:\n",
    "            mask = self.data[self.target] == classes\n",
    "            feature_now = feature[mask]\n",
    "            val[classes] = self.estimate_mean_std(feature_now)\n",
    "        return val\n",
    "    \n",
    "    \n",
    "    def predict(self, feature):\n",
    "        \n",
    "        pred = {}\n",
    "        pred_class_sum = 0\n",
    "        pred_class = None\n",
    "        total = 0\n",
    "        for classes in self.unique_classes:\n",
    "            pred[classes] = {}\n",
    "            sumVal = 1\n",
    "            for key, val in feature.items():\n",
    "                #print(key, val)\n",
    "                if key in self.weights:\n",
    "                    if 'mu' in self.weights[key][classes].keys():\n",
    "                        pred[classes][key] = self.normal_pdf(val, self.weights[key][classes]['mu'], self.weights[key][classes]['sigma'])\n",
    "                        sumVal *= pred[classes][key]\n",
    "                    else:\n",
    "                        if (val not in self.weights[key][classes]):\n",
    "                            pred[classes][key] = self.laplash_smoothing(self.data.shape[0], len(self.weights[key][classes]))\n",
    "                        else:\n",
    "                            pred[classes][key] = self.weights[key][classes][val]\n",
    "                            sumVal *= pred[classes][key]\n",
    "                    \n",
    "            pred[classes]['sum'] = sumVal\n",
    "            total += sumVal\n",
    "        \n",
    "        posterior_prob = {}\n",
    "        posterior = 0\n",
    "        classes = 0\n",
    "        for i in self.unique_classes:\n",
    "            posterior_prob[i] = pred[i]['sum'] * self.class_prob[i] / total\n",
    "            if (posterior_prob[i] > posterior):\n",
    "                posterior = posterior_prob[i]\n",
    "                classes = i\n",
    "        return classes\n",
    "    \n",
    "    \n",
    "    def laplash_smoothing(self, data_len, unique_val):\n",
    "        return 1 / (data_len + len(self.unique_classes) + 1)\n",
    "    \n",
    "    \n",
    "    def fit(self):\n",
    "        self.calculate_class_prob()\n",
    "        self.weights['REGION-CENTROID-COL'] = self.calculate_class_based_normal_feature(self.data['REGION-CENTROID-COL'])\n",
    "        self.weights['REGION-CENTROID-ROW'] = self.calculate_class_based_normal_feature(self.data['REGION-CENTROID-ROW'])\n",
    "        self.weights['SHORT-LINE-DENSITY-5'] = self.calculate_class_based_feature_prob(self.data['SHORT-LINE-DENSITY-5'])\n",
    "        self.weights['SHORT-LINE-DENSITY-2'] = self.calculate_class_based_feature_prob(self.data['SHORT-LINE-DENSITY-2'])\n",
    "        self.weights['VEDGE-MEAN'] = self.calculate_class_based_normal_feature(self.data['VEDGE-MEAN'])\n",
    "        self.weights['VEDGE-SD'] = self.calculate_class_based_normal_feature(self.data['VEDGE-SD'])\n",
    "        self.weights['HEDGE-MEAN'] = self.calculate_class_based_normal_feature(self.data['HEDGE-MEAN'])\n",
    "        self.weights['HEDGE-SD'] = self.calculate_class_based_normal_feature(self.data['HEDGE-SD'])\n",
    "        self.weights['INTENSITY-MEAN'] = self.calculate_class_based_normal_feature(self.data['INTENSITY-MEAN'])\n",
    "        self.weights['RAWRED-MEAN'] = self.calculate_class_based_normal_feature(self.data['RAWRED-MEAN'])\n",
    "        self.weights['RAWBLUE-MEAN'] = self.calculate_class_based_normal_feature(self.data['RAWBLUE-MEAN'])\n",
    "        self.weights['RAWGREEN-MEAN'] = self.calculate_class_based_normal_feature(self.data['RAWGREEN-MEAN'])\n",
    "        self.weights['EXRED-MEAN'] = self.calculate_class_based_normal_feature(self.data['EXRED-MEAN'])\n",
    "        self.weights['EXBLUE-MEAN'] = self.calculate_class_based_normal_feature(self.data['EXBLUE-MEAN'])\n",
    "        self.weights['EXGREEN-MEAN'] = self.calculate_class_based_normal_feature(self.data['EXGREEN-MEAN'])\n",
    "        self.weights['VALUE-MEAN'] = self.calculate_class_based_normal_feature(self.data['VALUE-MEAN'])\n",
    "        self.weights['SATURATION-MEAN'] = self.calculate_class_based_normal_feature(self.data['SATURATION-MEAN'])\n",
    "        self.weights['HUE-MEAN'] = self.calculate_class_based_normal_feature(self.data['HUE-MEAN'])\n",
    "        \n",
    "    def predict_batch(self, data):\n",
    "        classes = data.apply(self.predict, axis = 1)\n",
    "        return classes"
   ]
  },
  {
   "cell_type": "code",
   "execution_count": 70,
   "metadata": {},
   "outputs": [],
   "source": [
    "def dimension_reduction(data):\n",
    "    ''' \n",
    "    Data is a DataFrame\n",
    "    '''\n",
    "    data1 = data\n",
    "    for i in data.columns:\n",
    "        if (np.unique(data[i]) == 1) or (data[i].var() == 0):\n",
    "            data1 = data1.drop(i)\n",
    "    return data1"
   ]
  },
  {
   "cell_type": "code",
   "execution_count": 71,
   "metadata": {},
   "outputs": [],
   "source": [
    "#data = dimension_reduction(train_data)"
   ]
  },
  {
   "cell_type": "code",
   "execution_count": 72,
   "metadata": {},
   "outputs": [],
   "source": [
    "nb = NaiveBayesClassifier(train_data, 'CLASS')\n",
    "nb.fit()"
   ]
  },
  {
   "cell_type": "code",
   "execution_count": 73,
   "metadata": {},
   "outputs": [
    {
     "data": {
      "text/plain": [
       "(210, 20)"
      ]
     },
     "execution_count": 73,
     "metadata": {},
     "output_type": "execute_result"
    }
   ],
   "source": [
    "train_data.shape"
   ]
  },
  {
   "cell_type": "code",
   "execution_count": 74,
   "metadata": {},
   "outputs": [
    {
     "data": {
      "text/plain": [
       "(2100, 20)"
      ]
     },
     "execution_count": 74,
     "metadata": {},
     "output_type": "execute_result"
    }
   ],
   "source": [
    "test_data.shape"
   ]
  },
  {
   "cell_type": "code",
   "execution_count": 75,
   "metadata": {},
   "outputs": [
    {
     "data": {
      "text/plain": [
       "'GRASS'"
      ]
     },
     "execution_count": 75,
     "metadata": {},
     "output_type": "execute_result"
    }
   ],
   "source": [
    "nb.predict(test_data.iloc[0].to_dict())"
   ]
  },
  {
   "cell_type": "code",
   "execution_count": 76,
   "metadata": {},
   "outputs": [],
   "source": [
    "classes = nb.predict_batch(test_data)"
   ]
  },
  {
   "cell_type": "code",
   "execution_count": 77,
   "metadata": {},
   "outputs": [
    {
     "data": {
      "text/plain": [
       "{'REGION-CENTROID-COL': {'BRICKFACE': {'mu': 83.47510000000001,\n",
       "   'sigma': 58.13779301999442},\n",
       "  'CEMENT': {'mu': 151.0422, 'sigma': 59.278134952571754},\n",
       "  'FOLIAGE': {'mu': 76.6173, 'sigma': 56.63148274992549},\n",
       "  'GRASS': {'mu': 129.8469, 'sigma': 74.52000820274426},\n",
       "  'PATH': {'mu': 150.6774, 'sigma': 67.36970187807935},\n",
       "  'SKY': {'mu': 116.3783, 'sigma': 53.30035936595884},\n",
       "  'WINDOW': {'mu': 165.2322, 'sigma': 61.46778390554555}},\n",
       " 'REGION-CENTROID-ROW': {'BRICKFACE': {'mu': 109.4233,\n",
       "   'sigma': 26.47291809935071},\n",
       "  'CEMENT': {'mu': 96.6555, 'sigma': 35.69301995281916},\n",
       "  'FOLIAGE': {'mu': 111.54939999999999, 'sigma': 19.687993191790802},\n",
       "  'GRASS': {'mu': 203.08859999999999, 'sigma': 24.498371894936753},\n",
       "  'PATH': {'mu': 187.25039999999998, 'sigma': 10.253819682432894},\n",
       "  'SKY': {'mu': 45.698800000000006, 'sigma': 23.13312701729746},\n",
       "  'WINDOW': {'mu': 104.73219999999999, 'sigma': 35.85852812403088}},\n",
       " 'SHORT-LINE-DENSITY-5': {'BRICKFACE': {0.0: 0.9688000000000001,\n",
       "   0.11111111: 0.02631578947368421},\n",
       "  'CEMENT': {0.0: 0.02631578947368421, 0.11111111: 0.02631578947368421},\n",
       "  'FOLIAGE': {0.0: 0.02631578947368421, 0.11111111: 0.02631578947368421},\n",
       "  'GRASS': {0.0: 0.02631578947368421, 0.11111111: 0.02631578947368421},\n",
       "  'PATH': {0.0: 0.02631578947368421, 0.11111111: 0.02631578947368421},\n",
       "  'SKY': {0.0: 0.02631578947368421, 0.11111111: 0.02631578947368421},\n",
       "  'WINDOW': {0.0: 0.02631578947368421, 0.11111111: 0.02631578947368421}},\n",
       " 'SHORT-LINE-DENSITY-2': {'BRICKFACE': {0.0: 1.0,\n",
       "   0.11111111: 0.02631578947368421,\n",
       "   0.22222222: 0.02631578947368421},\n",
       "  'CEMENT': {0.0: 0.02631578947368421,\n",
       "   0.11111111: 0.02631578947368421,\n",
       "   0.22222222: 0.02631578947368421},\n",
       "  'FOLIAGE': {0.0: 0.02631578947368421,\n",
       "   0.11111111: 0.02631578947368421,\n",
       "   0.22222222: 0.02631578947368421},\n",
       "  'GRASS': {0.0: 0.02631578947368421,\n",
       "   0.11111111: 0.02631578947368421,\n",
       "   0.22222222: 0.02631578947368421},\n",
       "  'PATH': {0.0: 0.02631578947368421,\n",
       "   0.11111111: 0.02631578947368421,\n",
       "   0.22222222: 0.02631578947368421},\n",
       "  'SKY': {0.0: 0.02631578947368421,\n",
       "   0.11111111: 0.02631578947368421,\n",
       "   0.22222222: 0.02631578947368421},\n",
       "  'WINDOW': {0.0: 0.02631578947368421,\n",
       "   0.11111111: 0.02631578947368421,\n",
       "   0.22222222: 0.02631578947368421}},\n",
       " 'VEDGE-MEAN': {'BRICKFACE': {'mu': 1.0279388999349999,\n",
       "   'sigma': 0.5630396589374097},\n",
       "  'CEMENT': {'mu': 2.93263346027, 'sigma': 2.891404448542697},\n",
       "  'FOLIAGE': {'mu': 3.8579667705530003, 'sigma': 5.540631195469586},\n",
       "  'GRASS': {'mu': 1.509261170808, 'sigma': 0.6710347767351824},\n",
       "  'PATH': {'mu': 2.3830168242600003, 'sigma': 0.9578648283482932},\n",
       "  'SKY': {'mu': 0.8229388751710001, 'sigma': 0.2808496767477648},\n",
       "  'WINDOW': {'mu': 0.914688891334, 'sigma': 0.7769929931785026}},\n",
       " 'VEDGE-SD': {'BRICKFACE': {'mu': 1.0165221495234, 'sigma': 1.072149436272166},\n",
       "  'CEMENT': {'mu': 2.4249331661849998, 'sigma': 2.5137369308878004},\n",
       "  'FOLIAGE': {'mu': 29.8549381943392, 'sigma': 69.66544007040014},\n",
       "  'GRASS': {'mu': 1.9242232513656, 'sigma': 2.3193007474851184},\n",
       "  'PATH': {'mu': 2.1387659896, 'sigma': 1.2823546415838931},\n",
       "  'SKY': {'mu': 0.5798761590424999, 'sigma': 0.30996274938368573},\n",
       "  'WINDOW': {'mu': 0.9636963007439999, 'sigma': 1.4593606033245665}},\n",
       " 'HEDGE-MEAN': {'BRICKFACE': {'mu': 1.338616630408,\n",
       "   'sigma': 0.7404298472574139},\n",
       "  'CEMENT': {'mu': 2.6322388678240003, 'sigma': 3.238792984039422},\n",
       "  'FOLIAGE': {'mu': 5.062855720315, 'sigma': 7.954191585881346},\n",
       "  'GRASS': {'mu': 2.1523499757919997, 'sigma': 0.8552976829585145},\n",
       "  'PATH': {'mu': 4.599055246730001, 'sigma': 2.9797689168982577},\n",
       "  'SKY': {'mu': 1.1445945777050002, 'sigma': 0.5572020301976215},\n",
       "  'WINDOW': {'mu': 1.1608777627749998, 'sigma': 1.655649302047677}},\n",
       " 'HEDGE-SD': {'BRICKFACE': {'mu': 0.8336381371393999,\n",
       "   'sigma': 0.7198578863160683},\n",
       "  'CEMENT': {'mu': 3.7560480025449996, 'sigma': 7.1320763009924395},\n",
       "  'FOLIAGE': {'mu': 58.284923706658, 'sigma': 142.56222833298622},\n",
       "  'GRASS': {'mu': 2.042030313158, 'sigma': 1.495972291698802},\n",
       "  'PATH': {'mu': 9.634913073309999, 'sigma': 15.301370425866436},\n",
       "  'SKY': {'mu': 0.804386263599, 'sigma': 0.6627695629066765},\n",
       "  'WINDOW': {'mu': 5.2137038053007, 'sigma': 12.96879847580134}},\n",
       " 'INTENSITY-MEAN': {'BRICKFACE': {'mu': 13.1181037302,\n",
       "   'sigma': 7.510456463431677},\n",
       "  'CEMENT': {'mu': 43.3800854733, 'sigma': 13.95836248337711},\n",
       "  'FOLIAGE': {'mu': 10.872933243850001, 'sigma': 14.451949552931064},\n",
       "  'GRASS': {'mu': 14.940944404689999, 'sigma': 4.571397030918395},\n",
       "  'PATH': {'mu': 49.366473842299996, 'sigma': 8.330418283513286},\n",
       "  'SKY': {'mu': 118.92765158050001, 'sigma': 12.219557334646504},\n",
       "  'WINDOW': {'mu': 8.2672148302, 'sigma': 8.057565323079166}},\n",
       " 'RAWRED-MEAN': {'BRICKFACE': {'mu': 13.5875665725,\n",
       "   'sigma': 6.688555190131159},\n",
       "  'CEMENT': {'mu': 38.8003444623, 'sigma': 13.073116018054405},\n",
       "  'FOLIAGE': {'mu': 7.9205556674010005, 'sigma': 12.788319045477524},\n",
       "  'GRASS': {'mu': 11.94623331244, 'sigma': 3.6640323505288266},\n",
       "  'PATH': {'mu': 44.044677904800004, 'sigma': 7.426040351478196},\n",
       "  'SKY': {'mu': 108.10545668060001, 'sigma': 14.503358896559124},\n",
       "  'WINDOW': {'mu': 6.522844434265, 'sigma': 6.935049253146606}},\n",
       " 'RAWBLUE-MEAN': {'BRICKFACE': {'mu': 16.746833371559998,\n",
       "   'sigma': 9.84111798749422},\n",
       "  'CEMENT': {'mu': 53.5226665566, 'sigma': 16.209854940079843},\n",
       "  'FOLIAGE': {'mu': 15.70628870737, 'sigma': 17.271852595397366},\n",
       "  'GRASS': {'mu': 13.58646691968, 'sigma': 5.068671217474584},\n",
       "  'PATH': {'mu': 61.2801345195, 'sigma': 10.727904553451824},\n",
       "  'SKY': {'mu': 135.2759128885, 'sigma': 8.637698442979106},\n",
       "  'WINDOW': {'mu': 12.33261135648, 'sigma': 10.857939820451767}},\n",
       " 'RAWGREEN-MEAN': {'BRICKFACE': {'mu': 9.41516678853,\n",
       "   'sigma': 6.111475463278213},\n",
       "  'CEMENT': {'mu': 38.2405998791, 'sigma': 12.873707723041331},\n",
       "  'FOLIAGE': {'mu': 9.606689093734, 'sigma': 14.082164714659525},\n",
       "  'GRASS': {'mu': 19.428688913499997, 'sigma': 5.343266089304283},\n",
       "  'PATH': {'mu': 43.2781446861, 'sigma': 7.025813216543196},\n",
       "  'SKY': {'mu': 114.3055325855, 'sigma': 13.32754876138603},\n",
       "  'WINDOW': {'mu': 6.436300143515, 'sigma': 7.146341802318011}},\n",
       " 'EXRED-MEAN': {'BRICKFACE': {'mu': 1.414433305482,\n",
       "   'sigma': 3.309058376028857},\n",
       "  'CEMENT': {'mu': -13.4779333911, 'sigma': 5.509642026860068},\n",
       "  'FOLIAGE': {'mu': -9.507911023730001, 'sigma': 7.0588286731597965},\n",
       "  'GRASS': {'mu': -9.241900038119999, 'sigma': 3.7917178585914706},\n",
       "  'PATH': {'mu': -16.506555497100003, 'sigma': 3.396943808714437},\n",
       "  'SKY': {'mu': -33.273766355300005, 'sigma': 7.8488662188375},\n",
       "  'WINDOW': {'mu': -5.971977712705, 'sigma': 4.49279915530131}},\n",
       " 'EXBLUE-MEAN': {'BRICKFACE': {'mu': 10.119611113484,\n",
       "   'sigma': 7.172375011759553},\n",
       "  'CEMENT': {'mu': 29.2390884873, 'sigma': 9.010840215860485},\n",
       "  'FOLIAGE': {'mu': 14.67024442883, 'sigma': 9.798897766765906},\n",
       "  'GRASS': {'mu': -4.115844455796, 'sigma': 2.9842534524473767},\n",
       "  'PATH': {'mu': 35.26271122000001, 'sigma': 7.0137200688542345},\n",
       "  'SKY': {'mu': 48.516711511800004, 'sigma': 11.213026115329619},\n",
       "  'WINDOW': {'mu': 11.710144509290002, 'sigma': 8.208067035085303}},\n",
       " 'EXGREEN-MEAN': {'BRICKFACE': {'mu': -11.5517886381,\n",
       "   'sigma': 4.330639860596417},\n",
       "  'CEMENT': {'mu': -15.92919971596, 'sigma': 4.043327416642041},\n",
       "  'FOLIAGE': {'mu': -4.944933368030001, 'sigma': 3.026174883592193},\n",
       "  'GRASS': {'mu': 13.27358895798, 'sigma': 3.114427106048642},\n",
       "  'PATH': {'mu': -18.70981117985, 'sigma': 4.274271321675733},\n",
       "  'SKY': {'mu': -15.103833426960001, 'sigma': 5.45648514001404},\n",
       "  'WINDOW': {'mu': -5.87738894603, 'sigma': 3.813904705238196}},\n",
       " 'VALUE-MEAN': {'BRICKFACE': {'mu': 16.80964449568,\n",
       "   'sigma': 9.539492367335328},\n",
       "  'CEMENT': {'mu': 53.2749664949, 'sigma': 16.159012652678392},\n",
       "  'FOLIAGE': {'mu': 16.209288739679998, 'sigma': 17.868942876440773},\n",
       "  'GRASS': {'mu': 19.380977765350003, 'sigma': 5.273846380626957},\n",
       "  'PATH': {'mu': 61.3194789402, 'sigma': 10.63743599961103},\n",
       "  'SKY': {'mu': 135.0706461835, 'sigma': 8.647224155508164},\n",
       "  'WINDOW': {'mu': 12.262133570809999, 'sigma': 10.824710412072665}},\n",
       " 'SATURATION-MEAN': {'BRICKFACE': {'mu': 0.488169424288,\n",
       "   'sigma': 0.07130483149147027},\n",
       "  'CEMENT': {'mu': 0.305163283278, 'sigma': 0.07656426630751907},\n",
       "  'FOLIAGE': {'mu': 0.759644861842, 'sigma': 0.22452078087337804},\n",
       "  'GRASS': {'mu': 0.41025856461399995, 'sigma': 0.07621400441815865},\n",
       "  'PATH': {'mu': 0.295530198428, 'sigma': 0.01340907887882616},\n",
       "  'SKY': {'mu': 0.2061654437364, 'sigma': 0.05800169239312268},\n",
       "  'WINDOW': {'mu': 0.4949723446370001, 'sigma': 0.2557267182013466}},\n",
       " 'HUE-MEAN': {'BRICKFACE': {'mu': -1.2947608100080001,\n",
       "   'sigma': 0.34072130223612407},\n",
       "  'CEMENT': {'mu': -2.0167276590100003, 'sigma': 0.09826755078127287},\n",
       "  'FOLIAGE': {'mu': -2.2458347402300003, 'sigma': 0.14809605346384774},\n",
       "  'GRASS': {'mu': 2.28609760984, 'sigma': 0.2434791892513718},\n",
       "  'PATH': {'mu': -2.0705052156700003, 'sigma': 0.09229074022659478},\n",
       "  'SKY': {'mu': -2.32396543967, 'sigma': 0.08119483191465486},\n",
       "  'WINDOW': {'mu': -1.73214078028, 'sigma': 0.6652606238192702}}}"
      ]
     },
     "execution_count": 77,
     "metadata": {},
     "output_type": "execute_result"
    }
   ],
   "source": [
    "nb.weights"
   ]
  },
  {
   "cell_type": "code",
   "execution_count": 78,
   "metadata": {},
   "outputs": [],
   "source": [
    "class Score_Matrix(object):\n",
    "    \n",
    "    '''\n",
    "    This class has all score matrix by which we can check efficiency of our algorithm on given dataset.\n",
    "    '''\n",
    "    \n",
    "    def __init__(self, y_actual, y_pred):\n",
    "        self.y_actual = y_actual\n",
    "        self.y_pred = np.array(y_pred)\n",
    "        \n",
    "    def confusion_matrix(self):\n",
    "        self.data = pd.crosstab(self.y_actual, self.y_pred, rownames= ['actual'], colnames = ['predicted'], margins = True)\n",
    "        return self.data\n",
    "        \n",
    "    def recall(self):\n",
    "        '''\n",
    "        data:\n",
    "            Dataframe of confusion matrix\n",
    "        '''\n",
    "        sumVal = 0\n",
    "        self.confusion_matrix()\n",
    "        for i in self.data.columns[:-1]:\n",
    "            sumVal += (self.data[i][i] / self.data['All'][i])\n",
    "        return np.round(sumVal / (self.data.shape[0] - 1), 3)\n",
    "    \n",
    "    def check_accuracy(self):\n",
    "        sumVal = 0\n",
    "        self.confusion_matrix()\n",
    "        for i in self.data.columns[:-1]:\n",
    "            sumVal += self.data[i][i]\n",
    "        return np.round(sumVal / self.data['All']['All'], 3)\n",
    "    \n",
    "    def precision(self):\n",
    "        sumVal = 0\n",
    "        self.confusion_matrix()\n",
    "        for i in self.data.columns[:-1]:\n",
    "            sumVal += (self.data[i][i] / self.data[i]['All'])\n",
    "        avg = sumVal / (self.data.shape[0]- 1)\n",
    "        return np.round(avg,3)\n",
    "    "
   ]
  },
  {
   "cell_type": "code",
   "execution_count": 79,
   "metadata": {},
   "outputs": [],
   "source": [
    "sm = Score_Matrix(test_data['CLASS'], classes)"
   ]
  },
  {
   "cell_type": "code",
   "execution_count": 80,
   "metadata": {},
   "outputs": [
    {
     "name": "stdout",
     "output_type": "stream",
     "text": [
      "Accuracy on test data: 0.774\n"
     ]
    }
   ],
   "source": [
    "print ('Accuracy on test data: {}'.format(sm.check_accuracy()))"
   ]
  },
  {
   "cell_type": "code",
   "execution_count": 81,
   "metadata": {},
   "outputs": [
    {
     "name": "stdout",
     "output_type": "stream",
     "text": [
      "Recall value on test data: 0.774\n"
     ]
    }
   ],
   "source": [
    "print ('Recall value on test data: {}'.format(sm.recall()))"
   ]
  },
  {
   "cell_type": "code",
   "execution_count": 82,
   "metadata": {},
   "outputs": [
    {
     "name": "stdout",
     "output_type": "stream",
     "text": [
      "Precision value on test data: 0.781\n"
     ]
    }
   ],
   "source": [
    "print ('Precision value on test data: {}'.format(sm.precision()))"
   ]
  },
  {
   "cell_type": "code",
   "execution_count": 83,
   "metadata": {},
   "outputs": [],
   "source": [
    "from sklearn.naive_bayes import GaussianNB"
   ]
  },
  {
   "cell_type": "code",
   "execution_count": 84,
   "metadata": {},
   "outputs": [],
   "source": [
    "nb = GaussianNB()"
   ]
  },
  {
   "cell_type": "code",
   "execution_count": 85,
   "metadata": {},
   "outputs": [],
   "source": [
    "x = train_data.drop('CLASS', axis = 1)\n",
    "y = train_data['CLASS']"
   ]
  },
  {
   "cell_type": "code",
   "execution_count": 86,
   "metadata": {},
   "outputs": [
    {
     "data": {
      "text/plain": [
       "GaussianNB(priors=None, var_smoothing=1e-09)"
      ]
     },
     "execution_count": 86,
     "metadata": {},
     "output_type": "execute_result"
    }
   ],
   "source": [
    "nb.fit(x, y)"
   ]
  },
  {
   "cell_type": "code",
   "execution_count": 87,
   "metadata": {},
   "outputs": [],
   "source": [
    "x_test = test_data.drop('CLASS', axis = 1)\n",
    "y_test = test_data['CLASS']"
   ]
  },
  {
   "cell_type": "code",
   "execution_count": 88,
   "metadata": {},
   "outputs": [
    {
     "data": {
      "text/plain": [
       "array(['GRASS', 'GRASS', 'GRASS', ..., 'WINDOW', 'BRICKFACE', 'BRICKFACE'],\n",
       "      dtype='<U9')"
      ]
     },
     "execution_count": 88,
     "metadata": {},
     "output_type": "execute_result"
    }
   ],
   "source": [
    "nb.predict(x_test)"
   ]
  },
  {
   "cell_type": "code",
   "execution_count": 89,
   "metadata": {},
   "outputs": [
    {
     "data": {
      "text/plain": [
       "0.7952380952380952"
      ]
     },
     "execution_count": 89,
     "metadata": {},
     "output_type": "execute_result"
    }
   ],
   "source": [
    "nb.score(x_test, y_test)"
   ]
  },
  {
   "cell_type": "markdown",
   "metadata": {},
   "source": [
    "# Applying PCA to reduce the number of features. "
   ]
  },
  {
   "cell_type": "code",
   "execution_count": 19,
   "metadata": {},
   "outputs": [],
   "source": [
    "def PCA(data, labels):\n",
    "    \n",
    "    ## We are taking the data columns. \n",
    "    global unique_classes\n",
    "    \n",
    "    cov_mat = list(map(lambda y: data[y == labels].cov(), unique_classes))\n",
    "\n",
    "    svd_mat = list(map(lambda x: np.linalg.svd(x), cov_mat))\n",
    "    \n",
    "    ## Taking column number \n",
    "    col_no = np.array(list(map(lambda x: np.argmax(x[0], axis = 1), svd_mat)))\n",
    "    \n",
    "    \n",
    "    col_val = list(map(lambda x: set(col_no[:, x]), np.arange(col_no.shape[1])))\n",
    "\n",
    "    cols = []\n",
    "    \n",
    "    for i in col_val:\n",
    "        if (len(i) == 1):\n",
    "            cols.extend(i)\n",
    "        \n",
    "    return cols"
   ]
  },
  {
   "cell_type": "code",
   "execution_count": null,
   "metadata": {},
   "outputs": [],
   "source": []
  }
 ],
 "metadata": {
  "kernelspec": {
   "display_name": "Python 3",
   "language": "python",
   "name": "python3"
  },
  "language_info": {
   "codemirror_mode": {
    "name": "ipython",
    "version": 3
   },
   "file_extension": ".py",
   "mimetype": "text/x-python",
   "name": "python",
   "nbconvert_exporter": "python",
   "pygments_lexer": "ipython3",
   "version": "3.7.3"
  }
 },
 "nbformat": 4,
 "nbformat_minor": 2
}
